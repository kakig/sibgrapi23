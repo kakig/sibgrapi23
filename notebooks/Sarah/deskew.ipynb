{
 "cells": [
  {
   "cell_type": "code",
   "execution_count": 1,
   "metadata": {},
   "outputs": [],
   "source": [
    "import numpy as np\n",
    "from skimage import io\n",
    "from skimage.color import rgb2gray\n",
    "from skimage.transform import rotate\n",
    "\n",
    "from deskew import determine_skew"
   ]
  },
  {
   "cell_type": "code",
   "execution_count": 2,
   "metadata": {},
   "outputs": [
    {
     "name": "stdout",
     "output_type": "stream",
     "text": [
      "5.000000000000007\n"
     ]
    }
   ],
   "source": [
    "image = io.imread('./images/1011-receipt.jpg')\n",
    "grayscale = rgb2gray(image)\n",
    "angle = determine_skew(grayscale)\n",
    "print(angle)\n",
    "rotated = rotate(image, angle, resize=True) * 255\n",
    "io.imsave('output.png', rotated.astype(np.uint8))"
   ]
  }
 ],
 "metadata": {
  "kernelspec": {
   "display_name": "Python 3 (ipykernel)",
   "language": "python",
   "name": "python3"
  },
  "language_info": {
   "codemirror_mode": {
    "name": "ipython",
    "version": 3
   },
   "file_extension": ".py",
   "mimetype": "text/x-python",
   "name": "python",
   "nbconvert_exporter": "python",
   "pygments_lexer": "ipython3",
   "version": "3.10.8"
  },
  "vscode": {
   "interpreter": {
    "hash": "a3eb3386723f9a6fe095063f0492a6f1413a5cebdc23dea2c922e7b4594c402f"
   }
  }
 },
 "nbformat": 4,
 "nbformat_minor": 4
}
