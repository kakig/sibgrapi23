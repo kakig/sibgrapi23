{
 "cells": [
  {
   "cell_type": "code",
   "execution_count": 1,
   "metadata": {},
   "outputs": [],
   "source": [
    "import pytesseract\n",
    "pytesseract.pytesseract.tesseract_cmd = r'C:\\Program Files\\Tesseract-OCR\\tesseract.exe'\n",
    "from PIL import Image, ImageOps\n",
    "import numpy as np\n",
    "from matplotlib import pyplot as plt"
   ]
  },
  {
   "cell_type": "code",
   "execution_count": 35,
   "metadata": {},
   "outputs": [],
   "source": [
    "def instantiate_histogram():    \n",
    "    histArray= []\n",
    "    \n",
    "    for i in range(0,256):\n",
    "        histArray.append(str(i))\n",
    "        histArray.append(0)\n",
    "    \n",
    "    hist = {histArray[i]: histArray[i + 1] for i in range(0, len(histArray), 2)} \n",
    "    \n",
    "    return hist\n",
    "\n",
    "histogram = instantiate_histogram()\n"
   ]
  },
  {
   "cell_type": "code",
   "execution_count": 36,
   "metadata": {},
   "outputs": [],
   "source": [
    "def count_intensity_values(hist, img):\n",
    "    for row in range(img.shape[0]):\n",
    "        for column in range(img.shape[1]):\n",
    "            hist[str(img[row][column])] += 1\n",
    "     \n",
    "    return hist\n",
    "\n"
   ]
  },
  {
   "cell_type": "code",
   "execution_count": 37,
   "metadata": {},
   "outputs": [
    {
     "data": {
      "image/png": "[encoded data removed]",
      "text/plain": [
       "<Figure size 432x288 with 1 Axes>"
      ]
     },
     "metadata": {
      "needs_background": "light"
     },
     "output_type": "display_data"
    },
    {
     "data": {
      "image/png": "[encoded data removed]",
      "text/plain": [
       "<Figure size 432x288 with 1 Axes>"
      ]
     },
     "metadata": {
      "needs_background": "light"
     },
     "output_type": "display_data"
    }
   ],
   "source": [
    "img = Image.open('testeNotafiscal.jpg')\n",
    "img  = ImageOps.grayscale(img)\n",
    "imgArray = np.asarray(img)\n",
    "\n",
    "histogram = count_intensity_values(histogram, imgArray)\n",
    "def plotHist(hist, hist2=''):\n",
    "    if hist2 != '':\n",
    "        figure, axarr = plt.subplots(1,2, figsize=(20, 10))\n",
    "        axarr[0].bar(hist.keys(), hist.values())\n",
    "        axarr[1].bar(hist2.keys(), hist2.values())\n",
    "    else:\n",
    "        plt.bar(hist.keys(), hist.values())\n",
    "        plt.xlabel(\"Níveis intensidade\")\n",
    "        ax = plt.gca()\n",
    "        ax.axes.xaxis.set_ticks([])\n",
    "        plt.grid(True)\n",
    "        plt.show()\n",
    "\n",
    "plotHist(hist = histogram)\n",
    "\n",
    "# img.show()\n",
    "\n",
    "# print(imgArray)\n",
    "\n",
    "x, bins, p = plt.hist(imgArray,256,[0,256], histtype='stepfilled')\n",
    "plt.show()\n",
    "\n",
    "# #print(pytesseract.image_to_string(img))"
   ]
  },
  {
   "cell_type": "code",
   "execution_count": 38,
   "metadata": {},
   "outputs": [
    {
     "name": "stdout",
     "output_type": "stream",
     "text": [
      "(791, 500)\n"
     ]
    },
    {
     "data": {
      "image/png": "[encoded data removed]",
      "text/plain": [
       "<Figure size 432x288 with 1 Axes>"
      ]
     },
     "metadata": {
      "needs_background": "light"
     },
     "output_type": "display_data"
    }
   ],
   "source": [
    "def get_hist_proba(hist, n_pixels):\n",
    "    hist_proba = {}\n",
    "    for i in range(0, 256):\n",
    "        hist_proba[str(i)] = hist[str(i)] / n_pixels\n",
    "    \n",
    "    return hist_proba\n",
    "\n",
    "n_pixels = imgArray.shape[0] * imgArray.shape[1]\n",
    "print(imgArray.shape)\n",
    "hist_proba = get_hist_proba(histogram, n_pixels)\n",
    "plotHist(hist_proba)"
   ]
  },
  {
   "cell_type": "code",
   "execution_count": 40,
   "metadata": {},
   "outputs": [
    {
     "name": "stdout",
     "output_type": "stream",
     "text": [
      "228.44178255372947\n"
     ]
    }
   ],
   "source": [
    "def getMediumBrightness(hist, n):\n",
    "    mediumBright = 0\n",
    "    \n",
    "    for i in range(n):\n",
    "        mediumBright += i*hist[str(i)]\n",
    "        \n",
    "    return mediumBright\n",
    "\n",
    "test = getMediumBrightness(hist_proba,256)\n",
    "\n",
    "print(test)"
   ]
  },
  {
   "cell_type": "code",
   "execution_count": null,
   "metadata": {},
   "outputs": [],
   "source": []
  }
 ],
 "metadata": {
  "kernelspec": {
   "display_name": "Python 3.9.12 ('base')",
   "language": "python",
   "name": "python3"
  },
  "language_info": {
   "codemirror_mode": {
    "name": "ipython",
    "version": 3
   },
   "file_extension": ".py",
   "mimetype": "text/x-python",
   "name": "python",
   "nbconvert_exporter": "python",
   "pygments_lexer": "ipython3",
   "version": "3.8.13"
  },
  "vscode": {
   "interpreter": {
    "hash": "a3eb3386723f9a6fe095063f0492a6f1413a5cebdc23dea2c922e7b4594c402f"
   }
  }
 },
 "nbformat": 4,
 "nbformat_minor": 4
}
