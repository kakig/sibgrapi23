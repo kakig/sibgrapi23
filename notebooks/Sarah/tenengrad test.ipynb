{
 "cells": [
  {
   "cell_type": "code",
   "execution_count": 2,
   "metadata": {},
   "outputs": [],
   "source": [
    "import pytesseract\n",
    "pytesseract.pytesseract.tesseract_cmd = r'C:\\Program Files\\Tesseract-OCR\\tesseract.exe'\n",
    "from PIL import Image, ImageOps\n",
    "import numpy as np\n",
    "from matplotlib import pyplot as plt\n",
    "from imgProcessor.measure.sharpness import parameters\n"
   ]
  },
  {
   "cell_type": "code",
   "execution_count": 12,
   "metadata": {},
   "outputs": [],
   "source": [
    "img = Image.open('./1003-receipt.jpg')\n",
    "img  = ImageOps.grayscale(img)\n",
    "imgArray = np.asarray(img)"
   ]
  },
  {
   "cell_type": "code",
   "execution_count": 13,
   "metadata": {},
   "outputs": [
    {
     "name": "stdout",
     "output_type": "stream",
     "text": [
      "11326.136472\n"
     ]
    }
   ],
   "source": [
    "print(parameters.tenengrad(imgArray))"
   ]
  },
  {
   "cell_type": "code",
   "execution_count": 14,
   "metadata": {},
   "outputs": [
    {
     "name": "stdout",
     "output_type": "stream",
     "text": [
      "50.79626336229206\n"
     ]
    }
   ],
   "source": [
    "print(parameters.normalizedGraylevelVariance(imgArray))"
   ]
  },
  {
   "cell_type": "code",
   "execution_count": 15,
   "metadata": {},
   "outputs": [
    {
     "name": "stdout",
     "output_type": "stream",
     "text": [
      "139.93224270833335\n"
     ]
    }
   ],
   "source": [
    "img2 = Image.open('blurred.jpeg')\n",
    "img2  = ImageOps.grayscale(img2)\n",
    "imgArray2 = np.asarray(img2)\n",
    "\n",
    "print(parameters.tenengrad(imgArray2))"
   ]
  },
  {
   "cell_type": "code",
   "execution_count": 16,
   "metadata": {},
   "outputs": [
    {
     "name": "stdout",
     "output_type": "stream",
     "text": [
      "5.360639393009678\n"
     ]
    }
   ],
   "source": [
    "#variancia\n",
    "img3 = Image.open('1026-test.jpg')\n",
    "img3  = ImageOps.grayscale(img3)\n",
    "imgArray3 = np.asarray(img3)\n",
    "\n",
    "print(parameters.normalizedGraylevelVariance(imgArray3))"
   ]
  },
  {
   "cell_type": "code",
   "execution_count": null,
   "metadata": {},
   "outputs": [],
   "source": []
  }
 ],
 "metadata": {
  "kernelspec": {
   "display_name": "Python 3",
   "language": "python",
   "name": "python3"
  },
  "language_info": {
   "codemirror_mode": {
    "name": "ipython",
    "version": 3
   },
   "file_extension": ".py",
   "mimetype": "text/x-python",
   "name": "python",
   "nbconvert_exporter": "python",
   "pygments_lexer": "ipython3",
   "version": "3.8.3"
  }
 },
 "nbformat": 4,
 "nbformat_minor": 4
}
