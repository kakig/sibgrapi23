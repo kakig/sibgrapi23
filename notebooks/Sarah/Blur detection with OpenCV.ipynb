{
 "cells": [
  {
   "cell_type": "code",
   "execution_count": 1,
   "metadata": {},
   "outputs": [],
   "source": [
    "import cv2\n",
    "from PIL import Image, ImageEnhance\n",
    "image_path = \"./images/1003-receipt.jpg\"\n",
    "image_file = Image.open(image_path) \n",
    "image_file.save(\"./images/1003-receipt-low.jpg\", quality=1) "
   ]
  },
  {
   "cell_type": "code",
   "execution_count": 2,
   "metadata": {},
   "outputs": [],
   "source": [
    "def variance_of_laplacian(image):\n",
    "    return cv2.Laplacian(image, cv2.CV_64F).var()"
   ]
  },
  {
   "cell_type": "code",
   "execution_count": 7,
   "metadata": {},
   "outputs": [
    {
     "name": "stdout",
     "output_type": "stream",
     "text": [
      "820.1119184690062\n",
      "19.12806922921956\n"
     ]
    }
   ],
   "source": [
    "image = cv2.imread('./images/1003-receipt.jpg',1)\n",
    "gray = cv2.cvtColor(image, cv2.COLOR_BGR2GRAY)\n",
    "\n",
    "image2 = cv2.imread('./images/1003-receipt-low.jpg',1)\n",
    "gray2 = cv2.cvtColor(image2, cv2.COLOR_BGR2GRAY)\n",
    "blur = cv2.GaussianBlur(gray2,(5,5),2)\n",
    "\n",
    "fm = variance_of_laplacian(gray)\n",
    "fm2 = variance_of_laplacian(blur)\n",
    "print(fm)\n",
    "print(fm2)\n"
   ]
  },
  {
   "cell_type": "code",
   "execution_count": 8,
   "metadata": {},
   "outputs": [],
   "source": [
    "# image2 = cv2.imread('./blurred.jpeg',1)\n",
    "# gray2 = cv2.cvtColor(image2, cv2.COLOR_BGR2GRAY)\n",
    "# fm = variance_of_laplacian(gray2)\n",
    "# print(fm)\n",
    "# # cv2.imshow(\"teste\",gray2)"
   ]
  },
  {
   "cell_type": "code",
   "execution_count": null,
   "metadata": {},
   "outputs": [],
   "source": []
  }
 ],
 "metadata": {
  "kernelspec": {
   "display_name": "Python 3",
   "language": "python",
   "name": "python3"
  },
  "language_info": {
   "codemirror_mode": {
    "name": "ipython",
    "version": 3
   },
   "file_extension": ".py",
   "mimetype": "text/x-python",
   "name": "python",
   "nbconvert_exporter": "python",
   "pygments_lexer": "ipython3",
   "version": "3.8.3"
  }
 },
 "nbformat": 4,
 "nbformat_minor": 4
}
