{
 "cells": [
  {
   "cell_type": "code",
   "execution_count": 2,
   "id": "3d95a928-64e9-4e95-9f35-fb052f597eca",
   "metadata": {},
   "outputs": [],
   "source": [
    "from torchmetrics.functional import char_error_rate, word_error_rate\n",
    "import re\n",
    "import pandas as pd"
   ]
  },
  {
   "cell_type": "code",
   "execution_count": 3,
   "id": "5445f6f4-efd7-49bc-aa50-3c02bf7a719d",
   "metadata": {},
   "outputs": [
    {
     "data": {
      "text/plain": [
       "['express_expense',\n",
       " 'labels',\n",
       " 'homography_points',\n",
       " 'homography_points_segmentation',\n",
       " 'homography_points_segmentation_batched_hull',\n",
       " 'homography_points_segmentation_batched_hough',\n",
       " 'homography_boxes',\n",
       " 'homography_boxes_segmentation',\n",
       " 'homography_boxes_segmentation_batched',\n",
       " 'mask',\n",
       " 'masks',\n",
       " 'masks_batched',\n",
       " 'image_perturbation_metrics',\n",
       " 'image_perturbation_report',\n",
       " 'distorted',\n",
       " 'distorted_small',\n",
       " 'express_small',\n",
       " 'express_test',\n",
       " 'pipeline_sample_images',\n",
       " 'methods_original_ocr_text',\n",
       " 'methods_distorted_ocr_text',\n",
       " 'ablation_ocr_text',\n",
       " 'ablation_ocr_distorted_text',\n",
       " 'parameters']"
      ]
     },
     "execution_count": 3,
     "metadata": {},
     "output_type": "execute_result"
    }
   ],
   "source": [
    "context.catalog.list()"
   ]
  },
  {
   "cell_type": "code",
   "execution_count": 38,
   "id": "cec6762e-1925-4543-905e-38a60a8d3ca3",
   "metadata": {},
   "outputs": [
    {
     "data": {
      "text/html": [
       "<pre style=\"white-space:pre;overflow-x:auto;line-height:normal;font-family:Menlo,'DejaVu Sans Mono',consolas,'Courier New',monospace\"><span style=\"color: #7fbfbf; text-decoration-color: #7fbfbf\">[06/14/23 10:11:12] </span><span style=\"color: #000080; text-decoration-color: #000080\">INFO    </span> Loading data from <span style=\"color: #008000; text-decoration-color: #008000\">'ablation_ocr_distorted_text'</span> <span style=\"font-weight: bold\">(</span>JSONDataSet<span style=\"font-weight: bold\">)</span><span style=\"color: #808000; text-decoration-color: #808000\">...</span>   <a href=\"file:///home/zig/.pyenv/versions/3.10.8/envs/sibigrapi23/lib/python3.10/site-packages/kedro/io/data_catalog.py\" target=\"_blank\"><span style=\"color: #7f7f7f; text-decoration-color: #7f7f7f\">data_catalog.py</span></a><span style=\"color: #7f7f7f; text-decoration-color: #7f7f7f\">:</span><a href=\"file:///home/zig/.pyenv/versions/3.10.8/envs/sibigrapi23/lib/python3.10/site-packages/kedro/io/data_catalog.py#343\" target=\"_blank\"><span style=\"color: #7f7f7f; text-decoration-color: #7f7f7f\">343</span></a>\n",
       "</pre>\n"
      ],
      "text/plain": [
       "\u001b[2;36m[06/14/23 10:11:12]\u001b[0m\u001b[2;36m \u001b[0m\u001b[34mINFO    \u001b[0m Loading data from \u001b[32m'ablation_ocr_distorted_text'\u001b[0m \u001b[1m(\u001b[0mJSONDataSet\u001b[1m)\u001b[0m\u001b[33m...\u001b[0m   \u001b]8;id=548129;file:///home/zig/.pyenv/versions/3.10.8/envs/sibigrapi23/lib/python3.10/site-packages/kedro/io/data_catalog.py\u001b\\\u001b[2mdata_catalog.py\u001b[0m\u001b]8;;\u001b\\\u001b[2m:\u001b[0m\u001b]8;id=418587;file:///home/zig/.pyenv/versions/3.10.8/envs/sibigrapi23/lib/python3.10/site-packages/kedro/io/data_catalog.py#343\u001b\\\u001b[2m343\u001b[0m\u001b]8;;\u001b\\\n"
      ]
     },
     "metadata": {},
     "output_type": "display_data"
    }
   ],
   "source": [
    "p = context.catalog.load(\"ablation_ocr_distorted_text\")"
   ]
  },
  {
   "cell_type": "code",
   "execution_count": 39,
   "id": "39e558da-3544-48bc-b10d-63fbca713090",
   "metadata": {},
   "outputs": [
    {
     "data": {
      "text/plain": [
       "dict_keys(['original', 'sh', 'mp', 'sm', 'sr', 'hm'])"
      ]
     },
     "execution_count": 39,
     "metadata": {},
     "output_type": "execute_result"
    }
   ],
   "source": [
    "p.keys()"
   ]
  },
  {
   "cell_type": "code",
   "execution_count": 40,
   "id": "90ef726a-dcfc-4e36-96df-1d13f875a709",
   "metadata": {},
   "outputs": [
    {
     "data": {
      "text/plain": [
       "{'file_name': '0-1000-receipt.jpg',\n",
       " 'pipeline_time': 0.06354237500000082,\n",
       " 'ocr_text': ''}"
      ]
     },
     "execution_count": 40,
     "metadata": {},
     "output_type": "execute_result"
    }
   ],
   "source": [
    "p[list(p.keys())[0]][0]"
   ]
  },
  {
   "cell_type": "code",
   "execution_count": 41,
   "id": "c77fb39e-46f3-4b79-a79f-decd71493919",
   "metadata": {},
   "outputs": [
    {
     "data": {
      "text/html": [
       "<pre style=\"white-space:pre;overflow-x:auto;line-height:normal;font-family:Menlo,'DejaVu Sans Mono',consolas,'Courier New',monospace\"><span style=\"color: #7fbfbf; text-decoration-color: #7fbfbf\">[06/14/23 10:11:13] </span><span style=\"color: #000080; text-decoration-color: #000080\">INFO    </span> Loading data from <span style=\"color: #008000; text-decoration-color: #008000\">'labels'</span> <span style=\"font-weight: bold\">(</span>PartitionedDataSet<span style=\"font-weight: bold\">)</span><span style=\"color: #808000; text-decoration-color: #808000\">...</span>                 <a href=\"file:///home/zig/.pyenv/versions/3.10.8/envs/sibigrapi23/lib/python3.10/site-packages/kedro/io/data_catalog.py\" target=\"_blank\"><span style=\"color: #7f7f7f; text-decoration-color: #7f7f7f\">data_catalog.py</span></a><span style=\"color: #7f7f7f; text-decoration-color: #7f7f7f\">:</span><a href=\"file:///home/zig/.pyenv/versions/3.10.8/envs/sibigrapi23/lib/python3.10/site-packages/kedro/io/data_catalog.py#343\" target=\"_blank\"><span style=\"color: #7f7f7f; text-decoration-color: #7f7f7f\">343</span></a>\n",
       "</pre>\n"
      ],
      "text/plain": [
       "\u001b[2;36m[06/14/23 10:11:13]\u001b[0m\u001b[2;36m \u001b[0m\u001b[34mINFO    \u001b[0m Loading data from \u001b[32m'labels'\u001b[0m \u001b[1m(\u001b[0mPartitionedDataSet\u001b[1m)\u001b[0m\u001b[33m...\u001b[0m                 \u001b]8;id=92503;file:///home/zig/.pyenv/versions/3.10.8/envs/sibigrapi23/lib/python3.10/site-packages/kedro/io/data_catalog.py\u001b\\\u001b[2mdata_catalog.py\u001b[0m\u001b]8;;\u001b\\\u001b[2m:\u001b[0m\u001b]8;id=711151;file:///home/zig/.pyenv/versions/3.10.8/envs/sibigrapi23/lib/python3.10/site-packages/kedro/io/data_catalog.py#343\u001b\\\u001b[2m343\u001b[0m\u001b]8;;\u001b\\\n"
      ]
     },
     "metadata": {},
     "output_type": "display_data"
    }
   ],
   "source": [
    "labels = context.catalog.load(\"labels\")"
   ]
  },
  {
   "cell_type": "code",
   "execution_count": 42,
   "id": "638e4abb-d3a4-4828-9332-5bea5ade1916",
   "metadata": {},
   "outputs": [
    {
     "data": {
      "text/plain": [
       "dict_keys(['original', 'sh', 'mp', 'sm', 'sr', 'hm'])"
      ]
     },
     "execution_count": 42,
     "metadata": {},
     "output_type": "execute_result"
    }
   ],
   "source": [
    "p.keys()"
   ]
  },
  {
   "cell_type": "code",
   "execution_count": 43,
   "id": "bdd11c3b-960d-45b4-b0f0-c437f62ae168",
   "metadata": {},
   "outputs": [],
   "source": [
    "def _cleanText(t):\n",
    "    t = re.sub(r\" +\", \" \", t) # replace multiple spaces with one\n",
    "    t = re.sub(r\"[\\s\\n]+\\n\", \"\\n\", t).strip() # remove empty lines\n",
    "    return t\n"
   ]
  },
  {
   "cell_type": "code",
   "execution_count": 48,
   "id": "22ab3b8f-f8b1-4a87-9871-b93235489863",
   "metadata": {},
   "outputs": [],
   "source": [
    "def generate_report(ocr_pipelines, labels):\n",
    "    stop = False\n",
    "    pipeline_results = dict()\n",
    "    for pipeline_name, ocr_results in ocr_pipelines.items():\n",
    "        results_errors = list()\n",
    "        results_binary = list()\n",
    "        for ocr_result in ocr_results:\n",
    "            try:\n",
    "                # label = labels[ocr_result[\"file_name\"].replace(\".jpg\", \".txt\")]() #usar essa linha para os datasets não distorcidos\n",
    "                label = labels[ocr_result[\"file_name\"][2:].replace(\".jpg\", \".txt\")]() #usar essa linha para o dataset distorcido\n",
    "            except:\n",
    "                continue\n",
    "            if (ocr_result[\"ocr_text\"]):\n",
    "                results_errors.append({\n",
    "                    'wer': float(word_error_rate(preds=_cleanText(ocr_result[\"ocr_text\"]), target=_cleanText(label))),\n",
    "                    'cer': float(char_error_rate(preds=_cleanText(ocr_result[\"ocr_text\"]), target=_cleanText(label))),\n",
    "                })\n",
    "            results_binary.append({\n",
    "                'br': 1 if ocr_result[\"ocr_text\"] else 0,\n",
    "                'ba': 0,\n",
    "                'run_time': ocr_result[\"pipeline_time\"]\n",
    "            })\n",
    "        df_results_errors = pd.DataFrame(results_errors)\n",
    "        df_results_binary = pd.DataFrame(results_binary)\n",
    "        try:\n",
    "            df_results_binary['ba'] = df_results_errors['cer'].le(0.05).astype(int)\n",
    "        except:\n",
    "            continue\n",
    "        df_results = pd.concat([df_results_errors.describe().loc[[\"mean\", \"std\"], :].apply(lambda x: round(x * 100, 1)), df_results_binary.describe().loc[[\"mean\", \"std\"], :].apply(lambda x: round(x * 100, 1))], axis=1)\n",
    "        df_results[\"run_time\"] = (df_results[\"run_time\"] * 10).apply(round) / 1000\n",
    "        df_results = df_results.T\n",
    "        pipeline_results[pipeline_name] = df_results[\"mean\"].astype(str) + \" (\" + df_results[\"std\"].astype(str) + \")\"\n",
    "\n",
    "    return pd.DataFrame(pipeline_results).T"
   ]
  },
  {
   "cell_type": "code",
   "execution_count": 49,
   "id": "d3b87679-9006-44d7-a31f-36c90e75339d",
   "metadata": {},
   "outputs": [],
   "source": [
    "a = generate_report(p, labels)"
   ]
  },
  {
   "cell_type": "code",
   "execution_count": 50,
   "id": "70d44cd4-3e7c-4538-a2e4-004e824d607d",
   "metadata": {},
   "outputs": [
    {
     "data": {
      "text/html": [
       "<div>\n",
       "<style scoped>\n",
       "    .dataframe tbody tr th:only-of-type {\n",
       "        vertical-align: middle;\n",
       "    }\n",
       "\n",
       "    .dataframe tbody tr th {\n",
       "        vertical-align: top;\n",
       "    }\n",
       "\n",
       "    .dataframe thead th {\n",
       "        text-align: right;\n",
       "    }\n",
       "</style>\n",
       "<table border=\"1\" class=\"dataframe\">\n",
       "  <thead>\n",
       "    <tr style=\"text-align: right;\">\n",
       "      <th></th>\n",
       "      <th>wer</th>\n",
       "      <th>cer</th>\n",
       "      <th>br</th>\n",
       "      <th>ba</th>\n",
       "      <th>run_time</th>\n",
       "    </tr>\n",
       "  </thead>\n",
       "  <tbody>\n",
       "    <tr>\n",
       "      <th>original</th>\n",
       "      <td>84.2 (21.1)</td>\n",
       "      <td>74.3 (27.2)</td>\n",
       "      <td>19.0 (39.2)</td>\n",
       "      <td>0.0 (0.0)</td>\n",
       "      <td>0.056 (0.086)</td>\n",
       "    </tr>\n",
       "    <tr>\n",
       "      <th>sh</th>\n",
       "      <td>92.1 (16.5)</td>\n",
       "      <td>75.5 (23.3)</td>\n",
       "      <td>21.8 (41.3)</td>\n",
       "      <td>0.0 (0.0)</td>\n",
       "      <td>0.015 (0.029)</td>\n",
       "    </tr>\n",
       "    <tr>\n",
       "      <th>mp</th>\n",
       "      <td>93.1 (17.2)</td>\n",
       "      <td>76.9 (22.4)</td>\n",
       "      <td>23.2 (42.3)</td>\n",
       "      <td>0.0 (0.0)</td>\n",
       "      <td>0.015 (0.033)</td>\n",
       "    </tr>\n",
       "    <tr>\n",
       "      <th>sm</th>\n",
       "      <td>95.7 (17.1)</td>\n",
       "      <td>79.5 (20.2)</td>\n",
       "      <td>27.9 (44.9)</td>\n",
       "      <td>0.0 (0.0)</td>\n",
       "      <td>0.012 (0.031)</td>\n",
       "    </tr>\n",
       "    <tr>\n",
       "      <th>sr</th>\n",
       "      <td>100.0 (25.7)</td>\n",
       "      <td>78.7 (23.2)</td>\n",
       "      <td>31.1 (46.3)</td>\n",
       "      <td>0.0 (0.0)</td>\n",
       "      <td>53.523 (65.735)</td>\n",
       "    </tr>\n",
       "    <tr>\n",
       "      <th>hm</th>\n",
       "      <td>98.0 (37.8)</td>\n",
       "      <td>70.8 (27.9)</td>\n",
       "      <td>67.7 (46.8)</td>\n",
       "      <td>0.6 (7.8)</td>\n",
       "      <td>53.997 (65.685)</td>\n",
       "    </tr>\n",
       "  </tbody>\n",
       "</table>\n",
       "</div>"
      ],
      "text/plain": [
       "                   wer          cer           br         ba         run_time\n",
       "original   84.2 (21.1)  74.3 (27.2)  19.0 (39.2)  0.0 (0.0)    0.056 (0.086)\n",
       "sh         92.1 (16.5)  75.5 (23.3)  21.8 (41.3)  0.0 (0.0)    0.015 (0.029)\n",
       "mp         93.1 (17.2)  76.9 (22.4)  23.2 (42.3)  0.0 (0.0)    0.015 (0.033)\n",
       "sm         95.7 (17.1)  79.5 (20.2)  27.9 (44.9)  0.0 (0.0)    0.012 (0.031)\n",
       "sr        100.0 (25.7)  78.7 (23.2)  31.1 (46.3)  0.0 (0.0)  53.523 (65.735)\n",
       "hm         98.0 (37.8)  70.8 (27.9)  67.7 (46.8)  0.6 (7.8)  53.997 (65.685)"
      ]
     },
     "execution_count": 50,
     "metadata": {},
     "output_type": "execute_result"
    }
   ],
   "source": [
    "a"
   ]
  },
  {
   "cell_type": "code",
   "execution_count": null,
   "id": "698a07b9-ef08-48b9-9e04-9cafb2fe53fd",
   "metadata": {},
   "outputs": [],
   "source": []
  }
 ],
 "metadata": {
  "kernelspec": {
   "display_name": "Kedro (sibigrapi2023)",
   "language": "python",
   "name": "kedro_sibigrapi2023"
  },
  "language_info": {
   "codemirror_mode": {
    "name": "ipython",
    "version": 3
   },
   "file_extension": ".py",
   "mimetype": "text/x-python",
   "name": "python",
   "nbconvert_exporter": "python",
   "pygments_lexer": "ipython3",
   "version": "3.10.8"
  }
 },
 "nbformat": 4,
 "nbformat_minor": 5
}
