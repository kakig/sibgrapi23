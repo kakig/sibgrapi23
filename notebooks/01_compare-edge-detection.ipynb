{
 "cells": [
  {
   "cell_type": "code",
   "execution_count": 337,
   "id": "a246e93f-2dbd-46c8-b0ea-e222d0254c08",
   "metadata": {},
   "outputs": [],
   "source": [
    "import pandas as pd\n",
    "from PIL import Image\n",
    "import cv2\n",
    "import numpy as np\n",
    "import math"
   ]
  },
  {
   "cell_type": "code",
   "execution_count": 449,
   "id": "69a7e71b-8b93-4d29-8c13-f9f012fa8b45",
   "metadata": {},
   "outputs": [
    {
     "data": {
      "text/html": [
       "<pre style=\"white-space:pre;overflow-x:auto;line-height:normal;font-family:Menlo,'DejaVu Sans Mono',consolas,'Courier New',monospace\"><span style=\"color: #7fbfbf; text-decoration-color: #7fbfbf\">[05/28/23 22:04:27] </span><span style=\"color: #000080; text-decoration-color: #000080\">INFO    </span> Loading data from <span style=\"color: #008000; text-decoration-color: #008000\">'express_expense'</span> <span style=\"font-weight: bold\">(</span>PartitionedDataSet<span style=\"font-weight: bold\">)</span><span style=\"color: #808000; text-decoration-color: #808000\">...</span>        <a href=\"file:///home/zig/.pyenv/versions/3.10.8/envs/sibigrapi23/lib/python3.10/site-packages/kedro/io/data_catalog.py\" target=\"_blank\"><span style=\"color: #7f7f7f; text-decoration-color: #7f7f7f\">data_catalog.py</span></a><span style=\"color: #7f7f7f; text-decoration-color: #7f7f7f\">:</span><a href=\"file:///home/zig/.pyenv/versions/3.10.8/envs/sibigrapi23/lib/python3.10/site-packages/kedro/io/data_catalog.py#343\" target=\"_blank\"><span style=\"color: #7f7f7f; text-decoration-color: #7f7f7f\">343</span></a>\n",
       "</pre>\n"
      ],
      "text/plain": [
       "\u001b[2;36m[05/28/23 22:04:27]\u001b[0m\u001b[2;36m \u001b[0m\u001b[34mINFO    \u001b[0m Loading data from \u001b[32m'express_expense'\u001b[0m \u001b[1m(\u001b[0mPartitionedDataSet\u001b[1m)\u001b[0m\u001b[33m...\u001b[0m        \u001b]8;id=280959;file:///home/zig/.pyenv/versions/3.10.8/envs/sibigrapi23/lib/python3.10/site-packages/kedro/io/data_catalog.py\u001b\\\u001b[2mdata_catalog.py\u001b[0m\u001b]8;;\u001b\\\u001b[2m:\u001b[0m\u001b]8;id=581605;file:///home/zig/.pyenv/versions/3.10.8/envs/sibigrapi23/lib/python3.10/site-packages/kedro/io/data_catalog.py#343\u001b\\\u001b[2m343\u001b[0m\u001b]8;;\u001b\\\n"
      ]
     },
     "metadata": {},
     "output_type": "display_data"
    }
   ],
   "source": [
    "original_images = context.catalog.load(\"express_expense\")"
   ]
  },
  {
   "cell_type": "code",
   "execution_count": 491,
   "id": "bfb7e9f5-7b8d-4f87-9755-d5ab287bc370",
   "metadata": {},
   "outputs": [
    {
     "data": {
      "text/html": [
       "<pre style=\"white-space:pre;overflow-x:auto;line-height:normal;font-family:Menlo,'DejaVu Sans Mono',consolas,'Courier New',monospace\"><span style=\"color: #7fbfbf; text-decoration-color: #7fbfbf\">[05/28/23 22:16:38] </span><span style=\"color: #000080; text-decoration-color: #000080\">INFO    </span> Loading data from <span style=\"color: #008000; text-decoration-color: #008000\">'homography_points_segmentation_batched_hough'</span>   <a href=\"file:///home/zig/.pyenv/versions/3.10.8/envs/sibigrapi23/lib/python3.10/site-packages/kedro/io/data_catalog.py\" target=\"_blank\"><span style=\"color: #7f7f7f; text-decoration-color: #7f7f7f\">data_catalog.py</span></a><span style=\"color: #7f7f7f; text-decoration-color: #7f7f7f\">:</span><a href=\"file:///home/zig/.pyenv/versions/3.10.8/envs/sibigrapi23/lib/python3.10/site-packages/kedro/io/data_catalog.py#343\" target=\"_blank\"><span style=\"color: #7f7f7f; text-decoration-color: #7f7f7f\">343</span></a>\n",
       "<span style=\"color: #7fbfbf; text-decoration-color: #7fbfbf\">                    </span>         <span style=\"font-weight: bold\">(</span>CSVDataSet<span style=\"font-weight: bold\">)</span><span style=\"color: #808000; text-decoration-color: #808000\">...</span>                                                    <span style=\"color: #7f7f7f; text-decoration-color: #7f7f7f\">                   </span>\n",
       "</pre>\n"
      ],
      "text/plain": [
       "\u001b[2;36m[05/28/23 22:16:38]\u001b[0m\u001b[2;36m \u001b[0m\u001b[34mINFO    \u001b[0m Loading data from \u001b[32m'homography_points_segmentation_batched_hough'\u001b[0m   \u001b]8;id=535718;file:///home/zig/.pyenv/versions/3.10.8/envs/sibigrapi23/lib/python3.10/site-packages/kedro/io/data_catalog.py\u001b\\\u001b[2mdata_catalog.py\u001b[0m\u001b]8;;\u001b\\\u001b[2m:\u001b[0m\u001b]8;id=615424;file:///home/zig/.pyenv/versions/3.10.8/envs/sibigrapi23/lib/python3.10/site-packages/kedro/io/data_catalog.py#343\u001b\\\u001b[2m343\u001b[0m\u001b]8;;\u001b\\\n",
       "\u001b[2;36m                    \u001b[0m         \u001b[1m(\u001b[0mCSVDataSet\u001b[1m)\u001b[0m\u001b[33m...\u001b[0m                                                    \u001b[2m                   \u001b[0m\n"
      ]
     },
     "metadata": {},
     "output_type": "display_data"
    }
   ],
   "source": [
    "points_auto = context.catalog.load(\"homography_points_segmentation_batched_hough\")"
   ]
  },
  {
   "cell_type": "code",
   "execution_count": 492,
   "id": "0189f59c-4764-4dae-84c6-151dcbfab0a2",
   "metadata": {},
   "outputs": [
    {
     "data": {
      "text/html": [
       "<div>\n",
       "<style scoped>\n",
       "    .dataframe tbody tr th:only-of-type {\n",
       "        vertical-align: middle;\n",
       "    }\n",
       "\n",
       "    .dataframe tbody tr th {\n",
       "        vertical-align: top;\n",
       "    }\n",
       "\n",
       "    .dataframe thead th {\n",
       "        text-align: right;\n",
       "    }\n",
       "</style>\n",
       "<table border=\"1\" class=\"dataframe\">\n",
       "  <thead>\n",
       "    <tr style=\"text-align: right;\">\n",
       "      <th></th>\n",
       "      <th>index</th>\n",
       "      <th>P1X</th>\n",
       "      <th>P1Y</th>\n",
       "      <th>P2X</th>\n",
       "      <th>P2Y</th>\n",
       "      <th>P3X</th>\n",
       "      <th>P3Y</th>\n",
       "      <th>P4X</th>\n",
       "      <th>P4Y</th>\n",
       "      <th>mask_index</th>\n",
       "    </tr>\n",
       "  </thead>\n",
       "  <tbody>\n",
       "    <tr>\n",
       "      <th>0</th>\n",
       "      <td>batched_1000mask0</td>\n",
       "      <td>690</td>\n",
       "      <td>958</td>\n",
       "      <td>658</td>\n",
       "      <td>181</td>\n",
       "      <td>114</td>\n",
       "      <td>958</td>\n",
       "      <td>173</td>\n",
       "      <td>198</td>\n",
       "      <td>0</td>\n",
       "    </tr>\n",
       "    <tr>\n",
       "      <th>1</th>\n",
       "      <td>batched_1000mask1</td>\n",
       "      <td>665</td>\n",
       "      <td>178</td>\n",
       "      <td>108</td>\n",
       "      <td>997</td>\n",
       "      <td>172</td>\n",
       "      <td>195</td>\n",
       "      <td>715</td>\n",
       "      <td>997</td>\n",
       "      <td>1</td>\n",
       "    </tr>\n",
       "    <tr>\n",
       "      <th>2</th>\n",
       "      <td>batched_1001mask2</td>\n",
       "      <td>76</td>\n",
       "      <td>952</td>\n",
       "      <td>545</td>\n",
       "      <td>74</td>\n",
       "      <td>64</td>\n",
       "      <td>45</td>\n",
       "      <td>569</td>\n",
       "      <td>905</td>\n",
       "      <td>2</td>\n",
       "    </tr>\n",
       "    <tr>\n",
       "      <th>3</th>\n",
       "      <td>batched_1002mask1</td>\n",
       "      <td>362</td>\n",
       "      <td>997</td>\n",
       "      <td>79</td>\n",
       "      <td>28</td>\n",
       "      <td>23</td>\n",
       "      <td>997</td>\n",
       "      <td>446</td>\n",
       "      <td>113</td>\n",
       "      <td>1</td>\n",
       "    </tr>\n",
       "    <tr>\n",
       "      <th>4</th>\n",
       "      <td>batched_1002mask2</td>\n",
       "      <td>371</td>\n",
       "      <td>997</td>\n",
       "      <td>26</td>\n",
       "      <td>997</td>\n",
       "      <td>456</td>\n",
       "      <td>997</td>\n",
       "      <td>524</td>\n",
       "      <td>997</td>\n",
       "      <td>2</td>\n",
       "    </tr>\n",
       "    <tr>\n",
       "      <th>...</th>\n",
       "      <td>...</td>\n",
       "      <td>...</td>\n",
       "      <td>...</td>\n",
       "      <td>...</td>\n",
       "      <td>...</td>\n",
       "      <td>...</td>\n",
       "      <td>...</td>\n",
       "      <td>...</td>\n",
       "      <td>...</td>\n",
       "      <td>...</td>\n",
       "    </tr>\n",
       "    <tr>\n",
       "      <th>386</th>\n",
       "      <td>batched_1197mask2</td>\n",
       "      <td>288</td>\n",
       "      <td>96</td>\n",
       "      <td>293</td>\n",
       "      <td>93</td>\n",
       "      <td>288</td>\n",
       "      <td>93</td>\n",
       "      <td>293</td>\n",
       "      <td>96</td>\n",
       "      <td>2</td>\n",
       "    </tr>\n",
       "    <tr>\n",
       "      <th>387</th>\n",
       "      <td>batched_1198mask2</td>\n",
       "      <td>233</td>\n",
       "      <td>447</td>\n",
       "      <td>0</td>\n",
       "      <td>447</td>\n",
       "      <td>215</td>\n",
       "      <td>447</td>\n",
       "      <td>227</td>\n",
       "      <td>447</td>\n",
       "      <td>2</td>\n",
       "    </tr>\n",
       "    <tr>\n",
       "      <th>388</th>\n",
       "      <td>batched_1199mask0</td>\n",
       "      <td>304</td>\n",
       "      <td>345</td>\n",
       "      <td>58</td>\n",
       "      <td>162</td>\n",
       "      <td>290</td>\n",
       "      <td>160</td>\n",
       "      <td>39</td>\n",
       "      <td>345</td>\n",
       "      <td>0</td>\n",
       "    </tr>\n",
       "    <tr>\n",
       "      <th>389</th>\n",
       "      <td>batched_1199mask1</td>\n",
       "      <td>77</td>\n",
       "      <td>0</td>\n",
       "      <td>37</td>\n",
       "      <td>345</td>\n",
       "      <td>310</td>\n",
       "      <td>345</td>\n",
       "      <td>277</td>\n",
       "      <td>0</td>\n",
       "      <td>1</td>\n",
       "    </tr>\n",
       "    <tr>\n",
       "      <th>390</th>\n",
       "      <td>batched_1199mask2</td>\n",
       "      <td>278</td>\n",
       "      <td>0</td>\n",
       "      <td>309</td>\n",
       "      <td>345</td>\n",
       "      <td>35</td>\n",
       "      <td>345</td>\n",
       "      <td>75</td>\n",
       "      <td>0</td>\n",
       "      <td>2</td>\n",
       "    </tr>\n",
       "  </tbody>\n",
       "</table>\n",
       "<p>391 rows × 10 columns</p>\n",
       "</div>"
      ],
      "text/plain": [
       "                 index  P1X  P1Y  P2X  P2Y  P3X  P3Y  P4X  P4Y  mask_index\n",
       "0    batched_1000mask0  690  958  658  181  114  958  173  198           0\n",
       "1    batched_1000mask1  665  178  108  997  172  195  715  997           1\n",
       "2    batched_1001mask2   76  952  545   74   64   45  569  905           2\n",
       "3    batched_1002mask1  362  997   79   28   23  997  446  113           1\n",
       "4    batched_1002mask2  371  997   26  997  456  997  524  997           2\n",
       "..                 ...  ...  ...  ...  ...  ...  ...  ...  ...         ...\n",
       "386  batched_1197mask2  288   96  293   93  288   93  293   96           2\n",
       "387  batched_1198mask2  233  447    0  447  215  447  227  447           2\n",
       "388  batched_1199mask0  304  345   58  162  290  160   39  345           0\n",
       "389  batched_1199mask1   77    0   37  345  310  345  277    0           1\n",
       "390  batched_1199mask2  278    0  309  345   35  345   75    0           2\n",
       "\n",
       "[391 rows x 10 columns]"
      ]
     },
     "execution_count": 492,
     "metadata": {},
     "output_type": "execute_result"
    }
   ],
   "source": [
    "points_auto"
   ]
  },
  {
   "cell_type": "code",
   "execution_count": 493,
   "id": "d82bee3d-2e18-4f86-8e0a-33ac2a70cd36",
   "metadata": {},
   "outputs": [],
   "source": [
    "points_auto = points_auto.rename(columns={'index': 'Image'})\n",
    "#points_auto[\"Image\"] = points_auto['Image'].str.replace(\"-receipt.jpg\", \"\").astype('uint32')\n",
    "#points_auto[\"Image\"] = points_auto['Image'].str.replace(\"batched_\", \"\").astype('uint32')\n",
    "points_auto[\"Image\"] = points_auto['Image'].str.replace(\"batched_\", \"\").str.replace(\"mask.*\", \"\", regex=True).astype('uint32')\n",
    "points_auto = points_auto.set_index(\"Image\")"
   ]
  },
  {
   "cell_type": "code",
   "execution_count": 494,
   "id": "ac6762d3-d63f-46eb-87c1-a2fb9d1ffe23",
   "metadata": {},
   "outputs": [
    {
     "data": {
      "text/html": [
       "<div>\n",
       "<style scoped>\n",
       "    .dataframe tbody tr th:only-of-type {\n",
       "        vertical-align: middle;\n",
       "    }\n",
       "\n",
       "    .dataframe tbody tr th {\n",
       "        vertical-align: top;\n",
       "    }\n",
       "\n",
       "    .dataframe thead th {\n",
       "        text-align: right;\n",
       "    }\n",
       "</style>\n",
       "<table border=\"1\" class=\"dataframe\">\n",
       "  <thead>\n",
       "    <tr style=\"text-align: right;\">\n",
       "      <th></th>\n",
       "      <th>P1X</th>\n",
       "      <th>P1Y</th>\n",
       "      <th>P2X</th>\n",
       "      <th>P2Y</th>\n",
       "      <th>P3X</th>\n",
       "      <th>P3Y</th>\n",
       "      <th>P4X</th>\n",
       "      <th>P4Y</th>\n",
       "      <th>mask_index</th>\n",
       "    </tr>\n",
       "    <tr>\n",
       "      <th>Image</th>\n",
       "      <th></th>\n",
       "      <th></th>\n",
       "      <th></th>\n",
       "      <th></th>\n",
       "      <th></th>\n",
       "      <th></th>\n",
       "      <th></th>\n",
       "      <th></th>\n",
       "      <th></th>\n",
       "    </tr>\n",
       "  </thead>\n",
       "  <tbody>\n",
       "    <tr>\n",
       "      <th>1000</th>\n",
       "      <td>690</td>\n",
       "      <td>958</td>\n",
       "      <td>658</td>\n",
       "      <td>181</td>\n",
       "      <td>114</td>\n",
       "      <td>958</td>\n",
       "      <td>173</td>\n",
       "      <td>198</td>\n",
       "      <td>0</td>\n",
       "    </tr>\n",
       "    <tr>\n",
       "      <th>1000</th>\n",
       "      <td>665</td>\n",
       "      <td>178</td>\n",
       "      <td>108</td>\n",
       "      <td>997</td>\n",
       "      <td>172</td>\n",
       "      <td>195</td>\n",
       "      <td>715</td>\n",
       "      <td>997</td>\n",
       "      <td>1</td>\n",
       "    </tr>\n",
       "    <tr>\n",
       "      <th>1001</th>\n",
       "      <td>76</td>\n",
       "      <td>952</td>\n",
       "      <td>545</td>\n",
       "      <td>74</td>\n",
       "      <td>64</td>\n",
       "      <td>45</td>\n",
       "      <td>569</td>\n",
       "      <td>905</td>\n",
       "      <td>2</td>\n",
       "    </tr>\n",
       "    <tr>\n",
       "      <th>1002</th>\n",
       "      <td>362</td>\n",
       "      <td>997</td>\n",
       "      <td>79</td>\n",
       "      <td>28</td>\n",
       "      <td>23</td>\n",
       "      <td>997</td>\n",
       "      <td>446</td>\n",
       "      <td>113</td>\n",
       "      <td>1</td>\n",
       "    </tr>\n",
       "    <tr>\n",
       "      <th>1002</th>\n",
       "      <td>371</td>\n",
       "      <td>997</td>\n",
       "      <td>26</td>\n",
       "      <td>997</td>\n",
       "      <td>456</td>\n",
       "      <td>997</td>\n",
       "      <td>524</td>\n",
       "      <td>997</td>\n",
       "      <td>2</td>\n",
       "    </tr>\n",
       "    <tr>\n",
       "      <th>...</th>\n",
       "      <td>...</td>\n",
       "      <td>...</td>\n",
       "      <td>...</td>\n",
       "      <td>...</td>\n",
       "      <td>...</td>\n",
       "      <td>...</td>\n",
       "      <td>...</td>\n",
       "      <td>...</td>\n",
       "      <td>...</td>\n",
       "    </tr>\n",
       "    <tr>\n",
       "      <th>1197</th>\n",
       "      <td>288</td>\n",
       "      <td>96</td>\n",
       "      <td>293</td>\n",
       "      <td>93</td>\n",
       "      <td>288</td>\n",
       "      <td>93</td>\n",
       "      <td>293</td>\n",
       "      <td>96</td>\n",
       "      <td>2</td>\n",
       "    </tr>\n",
       "    <tr>\n",
       "      <th>1198</th>\n",
       "      <td>233</td>\n",
       "      <td>447</td>\n",
       "      <td>0</td>\n",
       "      <td>447</td>\n",
       "      <td>215</td>\n",
       "      <td>447</td>\n",
       "      <td>227</td>\n",
       "      <td>447</td>\n",
       "      <td>2</td>\n",
       "    </tr>\n",
       "    <tr>\n",
       "      <th>1199</th>\n",
       "      <td>304</td>\n",
       "      <td>345</td>\n",
       "      <td>58</td>\n",
       "      <td>162</td>\n",
       "      <td>290</td>\n",
       "      <td>160</td>\n",
       "      <td>39</td>\n",
       "      <td>345</td>\n",
       "      <td>0</td>\n",
       "    </tr>\n",
       "    <tr>\n",
       "      <th>1199</th>\n",
       "      <td>77</td>\n",
       "      <td>0</td>\n",
       "      <td>37</td>\n",
       "      <td>345</td>\n",
       "      <td>310</td>\n",
       "      <td>345</td>\n",
       "      <td>277</td>\n",
       "      <td>0</td>\n",
       "      <td>1</td>\n",
       "    </tr>\n",
       "    <tr>\n",
       "      <th>1199</th>\n",
       "      <td>278</td>\n",
       "      <td>0</td>\n",
       "      <td>309</td>\n",
       "      <td>345</td>\n",
       "      <td>35</td>\n",
       "      <td>345</td>\n",
       "      <td>75</td>\n",
       "      <td>0</td>\n",
       "      <td>2</td>\n",
       "    </tr>\n",
       "  </tbody>\n",
       "</table>\n",
       "<p>391 rows × 9 columns</p>\n",
       "</div>"
      ],
      "text/plain": [
       "       P1X  P1Y  P2X  P2Y  P3X  P3Y  P4X  P4Y  mask_index\n",
       "Image                                                    \n",
       "1000   690  958  658  181  114  958  173  198           0\n",
       "1000   665  178  108  997  172  195  715  997           1\n",
       "1001    76  952  545   74   64   45  569  905           2\n",
       "1002   362  997   79   28   23  997  446  113           1\n",
       "1002   371  997   26  997  456  997  524  997           2\n",
       "...    ...  ...  ...  ...  ...  ...  ...  ...         ...\n",
       "1197   288   96  293   93  288   93  293   96           2\n",
       "1198   233  447    0  447  215  447  227  447           2\n",
       "1199   304  345   58  162  290  160   39  345           0\n",
       "1199    77    0   37  345  310  345  277    0           1\n",
       "1199   278    0  309  345   35  345   75    0           2\n",
       "\n",
       "[391 rows x 9 columns]"
      ]
     },
     "execution_count": 494,
     "metadata": {},
     "output_type": "execute_result"
    }
   ],
   "source": [
    "points_auto"
   ]
  },
  {
   "cell_type": "code",
   "execution_count": 495,
   "id": "b266df88-1c58-49ec-a326-7d353f36f805",
   "metadata": {},
   "outputs": [],
   "source": [
    "points_manual = pd.read_csv(\"../data/01_raw/homography.csv\", sep=\";\")"
   ]
  },
  {
   "cell_type": "code",
   "execution_count": 496,
   "id": "770a2bda-f46d-4b9b-a15a-f0b6e8b548b2",
   "metadata": {},
   "outputs": [],
   "source": [
    "points_manual['P1X'] = points_manual['P1'].str.split(',').apply(lambda x: x[0]).astype('uint32')"
   ]
  },
  {
   "cell_type": "code",
   "execution_count": 497,
   "id": "dc94f051-8078-45e7-bb89-26d469663b05",
   "metadata": {},
   "outputs": [],
   "source": [
    "points_manual['P1Y'] = points_manual['P1'].str.split(',').apply(lambda x: x[1]).astype('uint32')"
   ]
  },
  {
   "cell_type": "code",
   "execution_count": 498,
   "id": "a8ab9d25-8bbd-4644-b562-6f4daec2fa65",
   "metadata": {},
   "outputs": [],
   "source": [
    "points_manual['P2X'] = points_manual['P2'].str.split(',').apply(lambda x: x[0]).astype('uint32')"
   ]
  },
  {
   "cell_type": "code",
   "execution_count": 499,
   "id": "fb74671b-794b-4dd2-a409-782bad951e1e",
   "metadata": {},
   "outputs": [],
   "source": [
    "points_manual['P2Y'] = points_manual['P2'].str.split(',').apply(lambda x: x[1]).astype('uint32')"
   ]
  },
  {
   "cell_type": "code",
   "execution_count": 500,
   "id": "f015fdb1-6c3b-450d-913d-ee0f2580008c",
   "metadata": {},
   "outputs": [],
   "source": [
    "# o P3 está invertido com o P4 na detecção manual, não sei por qual motivo"
   ]
  },
  {
   "cell_type": "code",
   "execution_count": 501,
   "id": "37ce3079-3d4b-4e3c-a33b-c3242083571e",
   "metadata": {},
   "outputs": [],
   "source": [
    "points_manual['P3X'] = points_manual['P4'].str.split(',').apply(lambda x: x[0]).astype('uint32')"
   ]
  },
  {
   "cell_type": "code",
   "execution_count": 502,
   "id": "fc9b76b5-5208-480e-a630-df4e5a56d473",
   "metadata": {},
   "outputs": [],
   "source": [
    "points_manual['P3Y'] = points_manual['P4'].str.split(',').apply(lambda x: x[1]).astype('uint32')"
   ]
  },
  {
   "cell_type": "code",
   "execution_count": 503,
   "id": "6b70297b-3697-418f-874e-6d585613e24f",
   "metadata": {},
   "outputs": [],
   "source": [
    "points_manual['P4X'] = points_manual['P3'].str.split(',').apply(lambda x: x[0]).astype('uint32')"
   ]
  },
  {
   "cell_type": "code",
   "execution_count": 504,
   "id": "68e43192-5642-4751-8df5-c6c709c12963",
   "metadata": {},
   "outputs": [],
   "source": [
    "points_manual['P4Y'] = points_manual['P3'].str.split(',').apply(lambda x: x[1]).astype('uint32')"
   ]
  },
  {
   "cell_type": "code",
   "execution_count": 505,
   "id": "a0dd7177-4d72-4c13-b133-9f5b945d2a49",
   "metadata": {},
   "outputs": [],
   "source": [
    "points_manual = points_manual.drop(columns=['P1', 'P2', 'P3', 'P4'])"
   ]
  },
  {
   "cell_type": "code",
   "execution_count": 506,
   "id": "cef39b88-8ac1-43b4-97ef-6d1642c47096",
   "metadata": {},
   "outputs": [],
   "source": [
    "points_manual = points_manual.set_index(\"Image\")"
   ]
  },
  {
   "cell_type": "markdown",
   "id": "800de0cd-fbda-4ef0-896e-9204a92c6b15",
   "metadata": {},
   "source": [
    "### Apenas 73% das imagens foram reconhecidas automaticamente"
   ]
  },
  {
   "cell_type": "code",
   "execution_count": 507,
   "id": "006106d5-baed-48f8-b9d9-a2c7b0dc403a",
   "metadata": {},
   "outputs": [
    {
     "data": {
      "text/plain": [
       "{1006,\n",
       " 1034,\n",
       " 1041,\n",
       " 1044,\n",
       " 1053,\n",
       " 1062,\n",
       " 1063,\n",
       " 1068,\n",
       " 1073,\n",
       " 1087,\n",
       " 1114,\n",
       " 1122,\n",
       " 1145,\n",
       " 1146,\n",
       " 1147,\n",
       " 1177,\n",
       " 1182,\n",
       " 1183,\n",
       " 1188,\n",
       " 1194}"
      ]
     },
     "execution_count": 507,
     "metadata": {},
     "output_type": "execute_result"
    }
   ],
   "source": [
    "missing = set(points_manual.index) - set(points_auto.index)\n",
    "missing"
   ]
  },
  {
   "cell_type": "code",
   "execution_count": 508,
   "id": "43365251-f66c-41ef-9083-22c8b5d7ccb9",
   "metadata": {},
   "outputs": [],
   "source": [
    "points_manual = points_manual.loc[points_auto.index]"
   ]
  },
  {
   "cell_type": "code",
   "execution_count": 509,
   "id": "65f876c6-4931-4838-9fa5-ca537233b5bd",
   "metadata": {},
   "outputs": [
    {
     "data": {
      "text/html": [
       "<div>\n",
       "<style scoped>\n",
       "    .dataframe tbody tr th:only-of-type {\n",
       "        vertical-align: middle;\n",
       "    }\n",
       "\n",
       "    .dataframe tbody tr th {\n",
       "        vertical-align: top;\n",
       "    }\n",
       "\n",
       "    .dataframe thead th {\n",
       "        text-align: right;\n",
       "    }\n",
       "</style>\n",
       "<table border=\"1\" class=\"dataframe\">\n",
       "  <thead>\n",
       "    <tr style=\"text-align: right;\">\n",
       "      <th></th>\n",
       "      <th>P1X</th>\n",
       "      <th>P1Y</th>\n",
       "      <th>P2X</th>\n",
       "      <th>P2Y</th>\n",
       "      <th>P3X</th>\n",
       "      <th>P3Y</th>\n",
       "      <th>P4X</th>\n",
       "      <th>P4Y</th>\n",
       "    </tr>\n",
       "    <tr>\n",
       "      <th>Image</th>\n",
       "      <th></th>\n",
       "      <th></th>\n",
       "      <th></th>\n",
       "      <th></th>\n",
       "      <th></th>\n",
       "      <th></th>\n",
       "      <th></th>\n",
       "      <th></th>\n",
       "    </tr>\n",
       "  </thead>\n",
       "  <tbody>\n",
       "    <tr>\n",
       "      <th>1000</th>\n",
       "      <td>182</td>\n",
       "      <td>199</td>\n",
       "      <td>661</td>\n",
       "      <td>193</td>\n",
       "      <td>699</td>\n",
       "      <td>929</td>\n",
       "      <td>119</td>\n",
       "      <td>914</td>\n",
       "    </tr>\n",
       "    <tr>\n",
       "      <th>1000</th>\n",
       "      <td>182</td>\n",
       "      <td>199</td>\n",
       "      <td>661</td>\n",
       "      <td>193</td>\n",
       "      <td>699</td>\n",
       "      <td>929</td>\n",
       "      <td>119</td>\n",
       "      <td>914</td>\n",
       "    </tr>\n",
       "    <tr>\n",
       "      <th>1001</th>\n",
       "      <td>83</td>\n",
       "      <td>77</td>\n",
       "      <td>545</td>\n",
       "      <td>90</td>\n",
       "      <td>576</td>\n",
       "      <td>788</td>\n",
       "      <td>72</td>\n",
       "      <td>824</td>\n",
       "    </tr>\n",
       "    <tr>\n",
       "      <th>1002</th>\n",
       "      <td>76</td>\n",
       "      <td>110</td>\n",
       "      <td>413</td>\n",
       "      <td>179</td>\n",
       "      <td>355</td>\n",
       "      <td>998</td>\n",
       "      <td>1</td>\n",
       "      <td>981</td>\n",
       "    </tr>\n",
       "    <tr>\n",
       "      <th>1002</th>\n",
       "      <td>76</td>\n",
       "      <td>110</td>\n",
       "      <td>413</td>\n",
       "      <td>179</td>\n",
       "      <td>355</td>\n",
       "      <td>998</td>\n",
       "      <td>1</td>\n",
       "      <td>981</td>\n",
       "    </tr>\n",
       "    <tr>\n",
       "      <th>...</th>\n",
       "      <td>...</td>\n",
       "      <td>...</td>\n",
       "      <td>...</td>\n",
       "      <td>...</td>\n",
       "      <td>...</td>\n",
       "      <td>...</td>\n",
       "      <td>...</td>\n",
       "      <td>...</td>\n",
       "    </tr>\n",
       "    <tr>\n",
       "      <th>1197</th>\n",
       "      <td>25</td>\n",
       "      <td>116</td>\n",
       "      <td>287</td>\n",
       "      <td>101</td>\n",
       "      <td>308</td>\n",
       "      <td>445</td>\n",
       "      <td>19</td>\n",
       "      <td>437</td>\n",
       "    </tr>\n",
       "    <tr>\n",
       "      <th>1198</th>\n",
       "      <td>2</td>\n",
       "      <td>1</td>\n",
       "      <td>218</td>\n",
       "      <td>5</td>\n",
       "      <td>231</td>\n",
       "      <td>446</td>\n",
       "      <td>1</td>\n",
       "      <td>445</td>\n",
       "    </tr>\n",
       "    <tr>\n",
       "      <th>1199</th>\n",
       "      <td>69</td>\n",
       "      <td>1</td>\n",
       "      <td>278</td>\n",
       "      <td>3</td>\n",
       "      <td>309</td>\n",
       "      <td>344</td>\n",
       "      <td>35</td>\n",
       "      <td>341</td>\n",
       "    </tr>\n",
       "    <tr>\n",
       "      <th>1199</th>\n",
       "      <td>69</td>\n",
       "      <td>1</td>\n",
       "      <td>278</td>\n",
       "      <td>3</td>\n",
       "      <td>309</td>\n",
       "      <td>344</td>\n",
       "      <td>35</td>\n",
       "      <td>341</td>\n",
       "    </tr>\n",
       "    <tr>\n",
       "      <th>1199</th>\n",
       "      <td>69</td>\n",
       "      <td>1</td>\n",
       "      <td>278</td>\n",
       "      <td>3</td>\n",
       "      <td>309</td>\n",
       "      <td>344</td>\n",
       "      <td>35</td>\n",
       "      <td>341</td>\n",
       "    </tr>\n",
       "  </tbody>\n",
       "</table>\n",
       "<p>391 rows × 8 columns</p>\n",
       "</div>"
      ],
      "text/plain": [
       "       P1X  P1Y  P2X  P2Y  P3X  P3Y  P4X  P4Y\n",
       "Image                                        \n",
       "1000   182  199  661  193  699  929  119  914\n",
       "1000   182  199  661  193  699  929  119  914\n",
       "1001    83   77  545   90  576  788   72  824\n",
       "1002    76  110  413  179  355  998    1  981\n",
       "1002    76  110  413  179  355  998    1  981\n",
       "...    ...  ...  ...  ...  ...  ...  ...  ...\n",
       "1197    25  116  287  101  308  445   19  437\n",
       "1198     2    1  218    5  231  446    1  445\n",
       "1199    69    1  278    3  309  344   35  341\n",
       "1199    69    1  278    3  309  344   35  341\n",
       "1199    69    1  278    3  309  344   35  341\n",
       "\n",
       "[391 rows x 8 columns]"
      ]
     },
     "execution_count": 509,
     "metadata": {},
     "output_type": "execute_result"
    }
   ],
   "source": [
    "points_manual"
   ]
  },
  {
   "cell_type": "markdown",
   "id": "16603289-b4eb-4f45-8ac3-294a478cd4cb",
   "metadata": {},
   "source": [
    "**Problemas em calcular a diferença entre os pontos manuais e os automáticos**\n",
    "1. A distância entre dois pontos deve ser considerada a mais curta, do teorema de Pitágoras?\n",
    "2. As imagens têm resoluções diferentes, o que impacta nessa conta das métricas\n",
    "\n",
    "Interessante mencionar no artigo. Dito isso, vamos aos cálculos:"
   ]
  },
  {
   "cell_type": "markdown",
   "id": "bf5371fa-766c-4399-bf28-8c05313b5071",
   "metadata": {},
   "source": [
    "1. Diferença entre os pontos manuais e os pontos automáticos (Pitágoras)"
   ]
  },
  {
   "cell_type": "code",
   "execution_count": 510,
   "id": "c4eab5c2-3c73-4be5-94e4-f4123f87f7c4",
   "metadata": {},
   "outputs": [],
   "source": [
    "dp1 = np.sqrt(pow(points_auto['P1X'] - points_manual['P1X'], 2) + pow(points_auto['P1Y'] - points_manual['P1Y'], 2))\n",
    "dp2 = np.sqrt(pow(points_auto['P2X'] - points_manual['P2X'], 2) + pow(points_auto['P2Y'] - points_manual['P2Y'], 2))\n",
    "dp3 = np.sqrt(pow(points_auto['P3X'] - points_manual['P3X'], 2) + pow(points_auto['P3Y'] - points_manual['P3Y'], 2))\n",
    "dp4 = np.sqrt(pow(points_auto['P4X'] - points_manual['P4X'], 2) + pow(points_auto['P4Y'] - points_manual['P4Y'], 2))"
   ]
  },
  {
   "cell_type": "code",
   "execution_count": 511,
   "id": "e8750b90-8d18-442b-a116-5464cda351a4",
   "metadata": {},
   "outputs": [],
   "source": [
    "dt = np.array(np.ravel(np.concatenate((dp1, dp2, dp3, dp4)).reshape(-1)))"
   ]
  },
  {
   "cell_type": "code",
   "execution_count": 512,
   "id": "dcbfe60a-c2e0-4856-8047-209c8753c4ee",
   "metadata": {},
   "outputs": [
    {
     "data": {
      "text/plain": [
       "4369.799194471068"
      ]
     },
     "execution_count": 512,
     "metadata": {},
     "output_type": "execute_result"
    }
   ],
   "source": [
    "dt.max()"
   ]
  },
  {
   "cell_type": "code",
   "execution_count": 513,
   "id": "d6cdbed3-9fc3-4f7f-b2a5-f24ac0d09e7e",
   "metadata": {},
   "outputs": [
    {
     "data": {
      "text/plain": [
       "1.0"
      ]
     },
     "execution_count": 513,
     "metadata": {},
     "output_type": "execute_result"
    }
   ],
   "source": [
    "dt.min()"
   ]
  },
  {
   "cell_type": "code",
   "execution_count": 514,
   "id": "7c939f2a-81c7-4bb4-97f7-9a8e8dfc9f83",
   "metadata": {},
   "outputs": [
    {
     "data": {
      "text/plain": [
       "582.3804521308189"
      ]
     },
     "execution_count": 514,
     "metadata": {},
     "output_type": "execute_result"
    }
   ],
   "source": [
    "dt.mean()"
   ]
  },
  {
   "cell_type": "code",
   "execution_count": 515,
   "id": "4fa7aa55-0ffc-4c87-bf1b-974cb7819a1b",
   "metadata": {},
   "outputs": [
    {
     "data": {
      "text/plain": [
       "578.0471420663318"
      ]
     },
     "execution_count": 515,
     "metadata": {},
     "output_type": "execute_result"
    }
   ],
   "source": [
    "np.median(dt)"
   ]
  },
  {
   "cell_type": "code",
   "execution_count": 516,
   "id": "b3e1e45e-1e9e-4051-ac33-bf4dca26bf88",
   "metadata": {},
   "outputs": [
    {
     "data": {
      "text/plain": [
       "422.34977053266834"
      ]
     },
     "execution_count": 516,
     "metadata": {},
     "output_type": "execute_result"
    }
   ],
   "source": [
    "dt.std()"
   ]
  },
  {
   "cell_type": "code",
   "execution_count": 517,
   "id": "e3b9204d-0737-41f7-9c60-2f036d51a464",
   "metadata": {},
   "outputs": [
    {
     "data": {
      "text/plain": [
       "689"
      ]
     },
     "execution_count": 517,
     "metadata": {},
     "output_type": "execute_result"
    }
   ],
   "source": [
    "np.argmax(dt)"
   ]
  },
  {
   "cell_type": "code",
   "execution_count": null,
   "id": "57f80bd9-03ce-4e1e-8f35-57e0a1f4b462",
   "metadata": {},
   "outputs": [],
   "source": []
  },
  {
   "cell_type": "code",
   "execution_count": null,
   "id": "68076e68-e199-4880-be5e-c9abe653bc19",
   "metadata": {},
   "outputs": [],
   "source": []
  }
 ],
 "metadata": {
  "kernelspec": {
   "display_name": "Kedro (sibigrapi2023)",
   "language": "python",
   "name": "kedro_sibigrapi2023"
  },
  "language_info": {
   "codemirror_mode": {
    "name": "ipython",
    "version": 3
   },
   "file_extension": ".py",
   "mimetype": "text/x-python",
   "name": "python",
   "nbconvert_exporter": "python",
   "pygments_lexer": "ipython3",
   "version": "3.10.8"
  }
 },
 "nbformat": 4,
 "nbformat_minor": 5
}
