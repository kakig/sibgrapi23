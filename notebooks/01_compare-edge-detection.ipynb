{
 "cells": [
  {
   "cell_type": "code",
   "execution_count": 95,
   "id": "a246e93f-2dbd-46c8-b0ea-e222d0254c08",
   "metadata": {},
   "outputs": [],
   "source": [
    "import pandas as pd\n",
    "from PIL import Image\n",
    "import cv2\n",
    "import numpy as np\n",
    "import math"
   ]
  },
  {
   "cell_type": "code",
   "execution_count": 96,
   "id": "69a7e71b-8b93-4d29-8c13-f9f012fa8b45",
   "metadata": {},
   "outputs": [
    {
     "data": {
      "text/html": [
       "<pre style=\"white-space:pre;overflow-x:auto;line-height:normal;font-family:Menlo,'DejaVu Sans Mono',consolas,'Courier New',monospace\"><span style=\"color: #7fbfbf; text-decoration-color: #7fbfbf\">[06/04/23 10:41:16] </span><span style=\"color: #000080; text-decoration-color: #000080\">INFO    </span> Loading data from <span style=\"color: #008000; text-decoration-color: #008000\">'express_expense'</span> <span style=\"font-weight: bold\">(</span>PartitionedDataSet<span style=\"font-weight: bold\">)</span><span style=\"color: #808000; text-decoration-color: #808000\">...</span>        <a href=\"file:///home/zig/.pyenv/versions/3.10.8/envs/sibigrapi23/lib/python3.10/site-packages/kedro/io/data_catalog.py\" target=\"_blank\"><span style=\"color: #7f7f7f; text-decoration-color: #7f7f7f\">data_catalog.py</span></a><span style=\"color: #7f7f7f; text-decoration-color: #7f7f7f\">:</span><a href=\"file:///home/zig/.pyenv/versions/3.10.8/envs/sibigrapi23/lib/python3.10/site-packages/kedro/io/data_catalog.py#343\" target=\"_blank\"><span style=\"color: #7f7f7f; text-decoration-color: #7f7f7f\">343</span></a>\n",
       "</pre>\n"
      ],
      "text/plain": [
       "\u001b[2;36m[06/04/23 10:41:16]\u001b[0m\u001b[2;36m \u001b[0m\u001b[34mINFO    \u001b[0m Loading data from \u001b[32m'express_expense'\u001b[0m \u001b[1m(\u001b[0mPartitionedDataSet\u001b[1m)\u001b[0m\u001b[33m...\u001b[0m        \u001b]8;id=362833;file:///home/zig/.pyenv/versions/3.10.8/envs/sibigrapi23/lib/python3.10/site-packages/kedro/io/data_catalog.py\u001b\\\u001b[2mdata_catalog.py\u001b[0m\u001b]8;;\u001b\\\u001b[2m:\u001b[0m\u001b]8;id=537264;file:///home/zig/.pyenv/versions/3.10.8/envs/sibigrapi23/lib/python3.10/site-packages/kedro/io/data_catalog.py#343\u001b\\\u001b[2m343\u001b[0m\u001b]8;;\u001b\\\n"
      ]
     },
     "metadata": {},
     "output_type": "display_data"
    }
   ],
   "source": [
    "original_images = context.catalog.load(\"express_expense\")"
   ]
  },
  {
   "cell_type": "code",
   "execution_count": 97,
   "id": "bfb7e9f5-7b8d-4f87-9755-d5ab287bc370",
   "metadata": {},
   "outputs": [
    {
     "data": {
      "text/html": [
       "<pre style=\"white-space:pre;overflow-x:auto;line-height:normal;font-family:Menlo,'DejaVu Sans Mono',consolas,'Courier New',monospace\"><span style=\"color: #7fbfbf; text-decoration-color: #7fbfbf\">                    </span><span style=\"color: #000080; text-decoration-color: #000080\">INFO    </span> Loading data from <span style=\"color: #008000; text-decoration-color: #008000\">'homography_points_segmentation'</span> <span style=\"font-weight: bold\">(</span>CSVDataSet<span style=\"font-weight: bold\">)</span><span style=\"color: #808000; text-decoration-color: #808000\">...</span> <a href=\"file:///home/zig/.pyenv/versions/3.10.8/envs/sibigrapi23/lib/python3.10/site-packages/kedro/io/data_catalog.py\" target=\"_blank\"><span style=\"color: #7f7f7f; text-decoration-color: #7f7f7f\">data_catalog.py</span></a><span style=\"color: #7f7f7f; text-decoration-color: #7f7f7f\">:</span><a href=\"file:///home/zig/.pyenv/versions/3.10.8/envs/sibigrapi23/lib/python3.10/site-packages/kedro/io/data_catalog.py#343\" target=\"_blank\"><span style=\"color: #7f7f7f; text-decoration-color: #7f7f7f\">343</span></a>\n",
       "</pre>\n"
      ],
      "text/plain": [
       "\u001b[2;36m                   \u001b[0m\u001b[2;36m \u001b[0m\u001b[34mINFO    \u001b[0m Loading data from \u001b[32m'homography_points_segmentation'\u001b[0m \u001b[1m(\u001b[0mCSVDataSet\u001b[1m)\u001b[0m\u001b[33m...\u001b[0m \u001b]8;id=429235;file:///home/zig/.pyenv/versions/3.10.8/envs/sibigrapi23/lib/python3.10/site-packages/kedro/io/data_catalog.py\u001b\\\u001b[2mdata_catalog.py\u001b[0m\u001b]8;;\u001b\\\u001b[2m:\u001b[0m\u001b]8;id=576913;file:///home/zig/.pyenv/versions/3.10.8/envs/sibigrapi23/lib/python3.10/site-packages/kedro/io/data_catalog.py#343\u001b\\\u001b[2m343\u001b[0m\u001b]8;;\u001b\\\n"
      ]
     },
     "metadata": {},
     "output_type": "display_data"
    }
   ],
   "source": [
    "points_auto = context.catalog.load(\"homography_points_segmentation\")"
   ]
  },
  {
   "cell_type": "code",
   "execution_count": 98,
   "id": "0189f59c-4764-4dae-84c6-151dcbfab0a2",
   "metadata": {},
   "outputs": [
    {
     "data": {
      "text/html": [
       "<div>\n",
       "<style scoped>\n",
       "    .dataframe tbody tr th:only-of-type {\n",
       "        vertical-align: middle;\n",
       "    }\n",
       "\n",
       "    .dataframe tbody tr th {\n",
       "        vertical-align: top;\n",
       "    }\n",
       "\n",
       "    .dataframe thead th {\n",
       "        text-align: right;\n",
       "    }\n",
       "</style>\n",
       "<table border=\"1\" class=\"dataframe\">\n",
       "  <thead>\n",
       "    <tr style=\"text-align: right;\">\n",
       "      <th></th>\n",
       "      <th>index</th>\n",
       "      <th>P1X</th>\n",
       "      <th>P1Y</th>\n",
       "      <th>P2X</th>\n",
       "      <th>P2Y</th>\n",
       "      <th>P3X</th>\n",
       "      <th>P3Y</th>\n",
       "      <th>P4X</th>\n",
       "      <th>P4Y</th>\n",
       "    </tr>\n",
       "  </thead>\n",
       "  <tbody>\n",
       "    <tr>\n",
       "      <th>0</th>\n",
       "      <td>1000</td>\n",
       "      <td>181</td>\n",
       "      <td>198</td>\n",
       "      <td>662</td>\n",
       "      <td>180</td>\n",
       "      <td>709</td>\n",
       "      <td>999</td>\n",
       "      <td>111</td>\n",
       "      <td>999</td>\n",
       "    </tr>\n",
       "    <tr>\n",
       "      <th>1</th>\n",
       "      <td>1001</td>\n",
       "      <td>296</td>\n",
       "      <td>491</td>\n",
       "      <td>318</td>\n",
       "      <td>487</td>\n",
       "      <td>326</td>\n",
       "      <td>503</td>\n",
       "      <td>298</td>\n",
       "      <td>504</td>\n",
       "    </tr>\n",
       "    <tr>\n",
       "      <th>2</th>\n",
       "      <td>1002</td>\n",
       "      <td>83</td>\n",
       "      <td>25</td>\n",
       "      <td>415</td>\n",
       "      <td>181</td>\n",
       "      <td>370</td>\n",
       "      <td>999</td>\n",
       "      <td>2</td>\n",
       "      <td>999</td>\n",
       "    </tr>\n",
       "    <tr>\n",
       "      <th>3</th>\n",
       "      <td>1003</td>\n",
       "      <td>183</td>\n",
       "      <td>68</td>\n",
       "      <td>597</td>\n",
       "      <td>47</td>\n",
       "      <td>585</td>\n",
       "      <td>990</td>\n",
       "      <td>156</td>\n",
       "      <td>942</td>\n",
       "    </tr>\n",
       "    <tr>\n",
       "      <th>4</th>\n",
       "      <td>1004</td>\n",
       "      <td>83</td>\n",
       "      <td>71</td>\n",
       "      <td>602</td>\n",
       "      <td>77</td>\n",
       "      <td>662</td>\n",
       "      <td>906</td>\n",
       "      <td>17</td>\n",
       "      <td>889</td>\n",
       "    </tr>\n",
       "    <tr>\n",
       "      <th>...</th>\n",
       "      <td>...</td>\n",
       "      <td>...</td>\n",
       "      <td>...</td>\n",
       "      <td>...</td>\n",
       "      <td>...</td>\n",
       "      <td>...</td>\n",
       "      <td>...</td>\n",
       "      <td>...</td>\n",
       "      <td>...</td>\n",
       "    </tr>\n",
       "    <tr>\n",
       "      <th>176</th>\n",
       "      <td>1193</td>\n",
       "      <td>36</td>\n",
       "      <td>0</td>\n",
       "      <td>302</td>\n",
       "      <td>0</td>\n",
       "      <td>319</td>\n",
       "      <td>347</td>\n",
       "      <td>24</td>\n",
       "      <td>347</td>\n",
       "    </tr>\n",
       "    <tr>\n",
       "      <th>177</th>\n",
       "      <td>1194</td>\n",
       "      <td>23</td>\n",
       "      <td>45</td>\n",
       "      <td>195</td>\n",
       "      <td>57</td>\n",
       "      <td>250</td>\n",
       "      <td>423</td>\n",
       "      <td>13</td>\n",
       "      <td>448</td>\n",
       "    </tr>\n",
       "    <tr>\n",
       "      <th>178</th>\n",
       "      <td>1195</td>\n",
       "      <td>122</td>\n",
       "      <td>0</td>\n",
       "      <td>579</td>\n",
       "      <td>0</td>\n",
       "      <td>623</td>\n",
       "      <td>999</td>\n",
       "      <td>65</td>\n",
       "      <td>999</td>\n",
       "    </tr>\n",
       "    <tr>\n",
       "      <th>179</th>\n",
       "      <td>1197</td>\n",
       "      <td>25</td>\n",
       "      <td>117</td>\n",
       "      <td>286</td>\n",
       "      <td>101</td>\n",
       "      <td>309</td>\n",
       "      <td>449</td>\n",
       "      <td>21</td>\n",
       "      <td>436</td>\n",
       "    </tr>\n",
       "    <tr>\n",
       "      <th>180</th>\n",
       "      <td>1198</td>\n",
       "      <td>5</td>\n",
       "      <td>0</td>\n",
       "      <td>220</td>\n",
       "      <td>13</td>\n",
       "      <td>231</td>\n",
       "      <td>449</td>\n",
       "      <td>0</td>\n",
       "      <td>449</td>\n",
       "    </tr>\n",
       "  </tbody>\n",
       "</table>\n",
       "<p>181 rows × 9 columns</p>\n",
       "</div>"
      ],
      "text/plain": [
       "     index  P1X  P1Y  P2X  P2Y  P3X  P3Y  P4X  P4Y\n",
       "0     1000  181  198  662  180  709  999  111  999\n",
       "1     1001  296  491  318  487  326  503  298  504\n",
       "2     1002   83   25  415  181  370  999    2  999\n",
       "3     1003  183   68  597   47  585  990  156  942\n",
       "4     1004   83   71  602   77  662  906   17  889\n",
       "..     ...  ...  ...  ...  ...  ...  ...  ...  ...\n",
       "176   1193   36    0  302    0  319  347   24  347\n",
       "177   1194   23   45  195   57  250  423   13  448\n",
       "178   1195  122    0  579    0  623  999   65  999\n",
       "179   1197   25  117  286  101  309  449   21  436\n",
       "180   1198    5    0  220   13  231  449    0  449\n",
       "\n",
       "[181 rows x 9 columns]"
      ]
     },
     "execution_count": 98,
     "metadata": {},
     "output_type": "execute_result"
    }
   ],
   "source": [
    "points_auto"
   ]
  },
  {
   "cell_type": "code",
   "execution_count": 99,
   "id": "d82bee3d-2e18-4f86-8e0a-33ac2a70cd36",
   "metadata": {},
   "outputs": [],
   "source": [
    "points_auto = points_auto.rename(columns={'index': 'Image'})\n",
    "#points_auto[\"Image\"] = points_auto['Image'].str.replace(\"-receipt.jpg\", \"\").astype('uint32')\n",
    "#points_auto[\"Image\"] = points_auto['Image'].str.replace(\"batched_\", \"\").astype('uint32')\n",
    "#points_auto[\"Image\"] = points_auto['Image'].str.replace(\"batched_\", \"\").str.replace(\"mask.*\", \"\", regex=True).astype('uint32')\n",
    "points_auto = points_auto.set_index(\"Image\")"
   ]
  },
  {
   "cell_type": "code",
   "execution_count": 100,
   "id": "ac6762d3-d63f-46eb-87c1-a2fb9d1ffe23",
   "metadata": {},
   "outputs": [
    {
     "data": {
      "text/html": [
       "<div>\n",
       "<style scoped>\n",
       "    .dataframe tbody tr th:only-of-type {\n",
       "        vertical-align: middle;\n",
       "    }\n",
       "\n",
       "    .dataframe tbody tr th {\n",
       "        vertical-align: top;\n",
       "    }\n",
       "\n",
       "    .dataframe thead th {\n",
       "        text-align: right;\n",
       "    }\n",
       "</style>\n",
       "<table border=\"1\" class=\"dataframe\">\n",
       "  <thead>\n",
       "    <tr style=\"text-align: right;\">\n",
       "      <th></th>\n",
       "      <th>P1X</th>\n",
       "      <th>P1Y</th>\n",
       "      <th>P2X</th>\n",
       "      <th>P2Y</th>\n",
       "      <th>P3X</th>\n",
       "      <th>P3Y</th>\n",
       "      <th>P4X</th>\n",
       "      <th>P4Y</th>\n",
       "    </tr>\n",
       "    <tr>\n",
       "      <th>Image</th>\n",
       "      <th></th>\n",
       "      <th></th>\n",
       "      <th></th>\n",
       "      <th></th>\n",
       "      <th></th>\n",
       "      <th></th>\n",
       "      <th></th>\n",
       "      <th></th>\n",
       "    </tr>\n",
       "  </thead>\n",
       "  <tbody>\n",
       "    <tr>\n",
       "      <th>1000</th>\n",
       "      <td>181</td>\n",
       "      <td>198</td>\n",
       "      <td>662</td>\n",
       "      <td>180</td>\n",
       "      <td>709</td>\n",
       "      <td>999</td>\n",
       "      <td>111</td>\n",
       "      <td>999</td>\n",
       "    </tr>\n",
       "    <tr>\n",
       "      <th>1001</th>\n",
       "      <td>296</td>\n",
       "      <td>491</td>\n",
       "      <td>318</td>\n",
       "      <td>487</td>\n",
       "      <td>326</td>\n",
       "      <td>503</td>\n",
       "      <td>298</td>\n",
       "      <td>504</td>\n",
       "    </tr>\n",
       "    <tr>\n",
       "      <th>1002</th>\n",
       "      <td>83</td>\n",
       "      <td>25</td>\n",
       "      <td>415</td>\n",
       "      <td>181</td>\n",
       "      <td>370</td>\n",
       "      <td>999</td>\n",
       "      <td>2</td>\n",
       "      <td>999</td>\n",
       "    </tr>\n",
       "    <tr>\n",
       "      <th>1003</th>\n",
       "      <td>183</td>\n",
       "      <td>68</td>\n",
       "      <td>597</td>\n",
       "      <td>47</td>\n",
       "      <td>585</td>\n",
       "      <td>990</td>\n",
       "      <td>156</td>\n",
       "      <td>942</td>\n",
       "    </tr>\n",
       "    <tr>\n",
       "      <th>1004</th>\n",
       "      <td>83</td>\n",
       "      <td>71</td>\n",
       "      <td>602</td>\n",
       "      <td>77</td>\n",
       "      <td>662</td>\n",
       "      <td>906</td>\n",
       "      <td>17</td>\n",
       "      <td>889</td>\n",
       "    </tr>\n",
       "    <tr>\n",
       "      <th>...</th>\n",
       "      <td>...</td>\n",
       "      <td>...</td>\n",
       "      <td>...</td>\n",
       "      <td>...</td>\n",
       "      <td>...</td>\n",
       "      <td>...</td>\n",
       "      <td>...</td>\n",
       "      <td>...</td>\n",
       "    </tr>\n",
       "    <tr>\n",
       "      <th>1193</th>\n",
       "      <td>36</td>\n",
       "      <td>0</td>\n",
       "      <td>302</td>\n",
       "      <td>0</td>\n",
       "      <td>319</td>\n",
       "      <td>347</td>\n",
       "      <td>24</td>\n",
       "      <td>347</td>\n",
       "    </tr>\n",
       "    <tr>\n",
       "      <th>1194</th>\n",
       "      <td>23</td>\n",
       "      <td>45</td>\n",
       "      <td>195</td>\n",
       "      <td>57</td>\n",
       "      <td>250</td>\n",
       "      <td>423</td>\n",
       "      <td>13</td>\n",
       "      <td>448</td>\n",
       "    </tr>\n",
       "    <tr>\n",
       "      <th>1195</th>\n",
       "      <td>122</td>\n",
       "      <td>0</td>\n",
       "      <td>579</td>\n",
       "      <td>0</td>\n",
       "      <td>623</td>\n",
       "      <td>999</td>\n",
       "      <td>65</td>\n",
       "      <td>999</td>\n",
       "    </tr>\n",
       "    <tr>\n",
       "      <th>1197</th>\n",
       "      <td>25</td>\n",
       "      <td>117</td>\n",
       "      <td>286</td>\n",
       "      <td>101</td>\n",
       "      <td>309</td>\n",
       "      <td>449</td>\n",
       "      <td>21</td>\n",
       "      <td>436</td>\n",
       "    </tr>\n",
       "    <tr>\n",
       "      <th>1198</th>\n",
       "      <td>5</td>\n",
       "      <td>0</td>\n",
       "      <td>220</td>\n",
       "      <td>13</td>\n",
       "      <td>231</td>\n",
       "      <td>449</td>\n",
       "      <td>0</td>\n",
       "      <td>449</td>\n",
       "    </tr>\n",
       "  </tbody>\n",
       "</table>\n",
       "<p>181 rows × 8 columns</p>\n",
       "</div>"
      ],
      "text/plain": [
       "       P1X  P1Y  P2X  P2Y  P3X  P3Y  P4X  P4Y\n",
       "Image                                        \n",
       "1000   181  198  662  180  709  999  111  999\n",
       "1001   296  491  318  487  326  503  298  504\n",
       "1002    83   25  415  181  370  999    2  999\n",
       "1003   183   68  597   47  585  990  156  942\n",
       "1004    83   71  602   77  662  906   17  889\n",
       "...    ...  ...  ...  ...  ...  ...  ...  ...\n",
       "1193    36    0  302    0  319  347   24  347\n",
       "1194    23   45  195   57  250  423   13  448\n",
       "1195   122    0  579    0  623  999   65  999\n",
       "1197    25  117  286  101  309  449   21  436\n",
       "1198     5    0  220   13  231  449    0  449\n",
       "\n",
       "[181 rows x 8 columns]"
      ]
     },
     "execution_count": 100,
     "metadata": {},
     "output_type": "execute_result"
    }
   ],
   "source": [
    "points_auto"
   ]
  },
  {
   "cell_type": "code",
   "execution_count": 101,
   "id": "b266df88-1c58-49ec-a326-7d353f36f805",
   "metadata": {},
   "outputs": [],
   "source": [
    "points_manual = pd.read_csv(\"../data/01_raw/homography.csv\", sep=\";\")"
   ]
  },
  {
   "cell_type": "code",
   "execution_count": 102,
   "id": "770a2bda-f46d-4b9b-a15a-f0b6e8b548b2",
   "metadata": {},
   "outputs": [],
   "source": [
    "points_manual['P1X'] = points_manual['P1'].str.split(',').apply(lambda x: x[0]).astype('uint32')"
   ]
  },
  {
   "cell_type": "code",
   "execution_count": 103,
   "id": "dc94f051-8078-45e7-bb89-26d469663b05",
   "metadata": {},
   "outputs": [],
   "source": [
    "points_manual['P1Y'] = points_manual['P1'].str.split(',').apply(lambda x: x[1]).astype('uint32')"
   ]
  },
  {
   "cell_type": "code",
   "execution_count": 104,
   "id": "a8ab9d25-8bbd-4644-b562-6f4daec2fa65",
   "metadata": {},
   "outputs": [],
   "source": [
    "points_manual['P2X'] = points_manual['P2'].str.split(',').apply(lambda x: x[0]).astype('uint32')"
   ]
  },
  {
   "cell_type": "code",
   "execution_count": 105,
   "id": "fb74671b-794b-4dd2-a409-782bad951e1e",
   "metadata": {},
   "outputs": [],
   "source": [
    "points_manual['P2Y'] = points_manual['P2'].str.split(',').apply(lambda x: x[1]).astype('uint32')"
   ]
  },
  {
   "cell_type": "code",
   "execution_count": 106,
   "id": "f015fdb1-6c3b-450d-913d-ee0f2580008c",
   "metadata": {},
   "outputs": [],
   "source": [
    "# o P3 está invertido com o P4 na detecção manual, não sei por qual motivo"
   ]
  },
  {
   "cell_type": "code",
   "execution_count": 107,
   "id": "37ce3079-3d4b-4e3c-a33b-c3242083571e",
   "metadata": {},
   "outputs": [],
   "source": [
    "points_manual['P3X'] = points_manual['P4'].str.split(',').apply(lambda x: x[0]).astype('uint32')"
   ]
  },
  {
   "cell_type": "code",
   "execution_count": 108,
   "id": "fc9b76b5-5208-480e-a630-df4e5a56d473",
   "metadata": {},
   "outputs": [],
   "source": [
    "points_manual['P3Y'] = points_manual['P4'].str.split(',').apply(lambda x: x[1]).astype('uint32')"
   ]
  },
  {
   "cell_type": "code",
   "execution_count": 109,
   "id": "6b70297b-3697-418f-874e-6d585613e24f",
   "metadata": {},
   "outputs": [],
   "source": [
    "points_manual['P4X'] = points_manual['P3'].str.split(',').apply(lambda x: x[0]).astype('uint32')"
   ]
  },
  {
   "cell_type": "code",
   "execution_count": 110,
   "id": "68e43192-5642-4751-8df5-c6c709c12963",
   "metadata": {},
   "outputs": [],
   "source": [
    "points_manual['P4Y'] = points_manual['P3'].str.split(',').apply(lambda x: x[1]).astype('uint32')"
   ]
  },
  {
   "cell_type": "code",
   "execution_count": 111,
   "id": "a0dd7177-4d72-4c13-b133-9f5b945d2a49",
   "metadata": {},
   "outputs": [],
   "source": [
    "points_manual = points_manual.drop(columns=['P1', 'P2', 'P3', 'P4'])"
   ]
  },
  {
   "cell_type": "code",
   "execution_count": 112,
   "id": "cef39b88-8ac1-43b4-97ef-6d1642c47096",
   "metadata": {},
   "outputs": [],
   "source": [
    "points_manual = points_manual.set_index(\"Image\")"
   ]
  },
  {
   "cell_type": "code",
   "execution_count": 113,
   "id": "006106d5-baed-48f8-b9d9-a2c7b0dc403a",
   "metadata": {},
   "outputs": [
    {
     "data": {
      "text/plain": [
       "{1006,\n",
       " 1015,\n",
       " 1016,\n",
       " 1024,\n",
       " 1038,\n",
       " 1044,\n",
       " 1062,\n",
       " 1066,\n",
       " 1076,\n",
       " 1087,\n",
       " 1097,\n",
       " 1139,\n",
       " 1146,\n",
       " 1147,\n",
       " 1187,\n",
       " 1188,\n",
       " 1196,\n",
       " 1199}"
      ]
     },
     "execution_count": 113,
     "metadata": {},
     "output_type": "execute_result"
    }
   ],
   "source": [
    "missing = set(points_manual.index) - set(points_auto.index)\n",
    "missing"
   ]
  },
  {
   "cell_type": "code",
   "execution_count": 114,
   "id": "43365251-f66c-41ef-9083-22c8b5d7ccb9",
   "metadata": {},
   "outputs": [],
   "source": [
    "points_manual = points_manual.loc[points_auto.index]"
   ]
  },
  {
   "cell_type": "code",
   "execution_count": 115,
   "id": "65f876c6-4931-4838-9fa5-ca537233b5bd",
   "metadata": {},
   "outputs": [
    {
     "data": {
      "text/html": [
       "<div>\n",
       "<style scoped>\n",
       "    .dataframe tbody tr th:only-of-type {\n",
       "        vertical-align: middle;\n",
       "    }\n",
       "\n",
       "    .dataframe tbody tr th {\n",
       "        vertical-align: top;\n",
       "    }\n",
       "\n",
       "    .dataframe thead th {\n",
       "        text-align: right;\n",
       "    }\n",
       "</style>\n",
       "<table border=\"1\" class=\"dataframe\">\n",
       "  <thead>\n",
       "    <tr style=\"text-align: right;\">\n",
       "      <th></th>\n",
       "      <th>P1X</th>\n",
       "      <th>P1Y</th>\n",
       "      <th>P2X</th>\n",
       "      <th>P2Y</th>\n",
       "      <th>P3X</th>\n",
       "      <th>P3Y</th>\n",
       "      <th>P4X</th>\n",
       "      <th>P4Y</th>\n",
       "    </tr>\n",
       "    <tr>\n",
       "      <th>Image</th>\n",
       "      <th></th>\n",
       "      <th></th>\n",
       "      <th></th>\n",
       "      <th></th>\n",
       "      <th></th>\n",
       "      <th></th>\n",
       "      <th></th>\n",
       "      <th></th>\n",
       "    </tr>\n",
       "  </thead>\n",
       "  <tbody>\n",
       "    <tr>\n",
       "      <th>1000</th>\n",
       "      <td>182</td>\n",
       "      <td>199</td>\n",
       "      <td>661</td>\n",
       "      <td>193</td>\n",
       "      <td>699</td>\n",
       "      <td>929</td>\n",
       "      <td>119</td>\n",
       "      <td>914</td>\n",
       "    </tr>\n",
       "    <tr>\n",
       "      <th>1001</th>\n",
       "      <td>83</td>\n",
       "      <td>77</td>\n",
       "      <td>545</td>\n",
       "      <td>90</td>\n",
       "      <td>576</td>\n",
       "      <td>788</td>\n",
       "      <td>72</td>\n",
       "      <td>824</td>\n",
       "    </tr>\n",
       "    <tr>\n",
       "      <th>1002</th>\n",
       "      <td>76</td>\n",
       "      <td>110</td>\n",
       "      <td>413</td>\n",
       "      <td>179</td>\n",
       "      <td>355</td>\n",
       "      <td>998</td>\n",
       "      <td>1</td>\n",
       "      <td>981</td>\n",
       "    </tr>\n",
       "    <tr>\n",
       "      <th>1003</th>\n",
       "      <td>177</td>\n",
       "      <td>92</td>\n",
       "      <td>596</td>\n",
       "      <td>92</td>\n",
       "      <td>594</td>\n",
       "      <td>932</td>\n",
       "      <td>159</td>\n",
       "      <td>943</td>\n",
       "    </tr>\n",
       "    <tr>\n",
       "      <th>1004</th>\n",
       "      <td>83</td>\n",
       "      <td>94</td>\n",
       "      <td>603</td>\n",
       "      <td>101</td>\n",
       "      <td>659</td>\n",
       "      <td>851</td>\n",
       "      <td>21</td>\n",
       "      <td>875</td>\n",
       "    </tr>\n",
       "    <tr>\n",
       "      <th>...</th>\n",
       "      <td>...</td>\n",
       "      <td>...</td>\n",
       "      <td>...</td>\n",
       "      <td>...</td>\n",
       "      <td>...</td>\n",
       "      <td>...</td>\n",
       "      <td>...</td>\n",
       "      <td>...</td>\n",
       "    </tr>\n",
       "    <tr>\n",
       "      <th>1193</th>\n",
       "      <td>34</td>\n",
       "      <td>1</td>\n",
       "      <td>303</td>\n",
       "      <td>1</td>\n",
       "      <td>320</td>\n",
       "      <td>345</td>\n",
       "      <td>22</td>\n",
       "      <td>344</td>\n",
       "    </tr>\n",
       "    <tr>\n",
       "      <th>1194</th>\n",
       "      <td>22</td>\n",
       "      <td>44</td>\n",
       "      <td>194</td>\n",
       "      <td>53</td>\n",
       "      <td>251</td>\n",
       "      <td>419</td>\n",
       "      <td>13</td>\n",
       "      <td>445</td>\n",
       "    </tr>\n",
       "    <tr>\n",
       "      <th>1195</th>\n",
       "      <td>117</td>\n",
       "      <td>7</td>\n",
       "      <td>583</td>\n",
       "      <td>7</td>\n",
       "      <td>623</td>\n",
       "      <td>996</td>\n",
       "      <td>65</td>\n",
       "      <td>994</td>\n",
       "    </tr>\n",
       "    <tr>\n",
       "      <th>1197</th>\n",
       "      <td>25</td>\n",
       "      <td>116</td>\n",
       "      <td>287</td>\n",
       "      <td>101</td>\n",
       "      <td>308</td>\n",
       "      <td>445</td>\n",
       "      <td>19</td>\n",
       "      <td>437</td>\n",
       "    </tr>\n",
       "    <tr>\n",
       "      <th>1198</th>\n",
       "      <td>2</td>\n",
       "      <td>1</td>\n",
       "      <td>218</td>\n",
       "      <td>5</td>\n",
       "      <td>231</td>\n",
       "      <td>446</td>\n",
       "      <td>1</td>\n",
       "      <td>445</td>\n",
       "    </tr>\n",
       "  </tbody>\n",
       "</table>\n",
       "<p>181 rows × 8 columns</p>\n",
       "</div>"
      ],
      "text/plain": [
       "       P1X  P1Y  P2X  P2Y  P3X  P3Y  P4X  P4Y\n",
       "Image                                        \n",
       "1000   182  199  661  193  699  929  119  914\n",
       "1001    83   77  545   90  576  788   72  824\n",
       "1002    76  110  413  179  355  998    1  981\n",
       "1003   177   92  596   92  594  932  159  943\n",
       "1004    83   94  603  101  659  851   21  875\n",
       "...    ...  ...  ...  ...  ...  ...  ...  ...\n",
       "1193    34    1  303    1  320  345   22  344\n",
       "1194    22   44  194   53  251  419   13  445\n",
       "1195   117    7  583    7  623  996   65  994\n",
       "1197    25  116  287  101  308  445   19  437\n",
       "1198     2    1  218    5  231  446    1  445\n",
       "\n",
       "[181 rows x 8 columns]"
      ]
     },
     "execution_count": 115,
     "metadata": {},
     "output_type": "execute_result"
    }
   ],
   "source": [
    "points_manual"
   ]
  },
  {
   "cell_type": "code",
   "execution_count": 116,
   "id": "c4eab5c2-3c73-4be5-94e4-f4123f87f7c4",
   "metadata": {},
   "outputs": [],
   "source": [
    "dp1 = np.sqrt(pow(points_auto['P1X'] - points_manual['P1X'], 2) + pow(points_auto['P1Y'] - points_manual['P1Y'], 2))\n",
    "dp2 = np.sqrt(pow(points_auto['P2X'] - points_manual['P2X'], 2) + pow(points_auto['P2Y'] - points_manual['P2Y'], 2))\n",
    "dp3 = np.sqrt(pow(points_auto['P3X'] - points_manual['P3X'], 2) + pow(points_auto['P3Y'] - points_manual['P3Y'], 2))\n",
    "dp4 = np.sqrt(pow(points_auto['P4X'] - points_manual['P4X'], 2) + pow(points_auto['P4Y'] - points_manual['P4Y'], 2))"
   ]
  },
  {
   "cell_type": "code",
   "execution_count": 117,
   "id": "e8750b90-8d18-442b-a116-5464cda351a4",
   "metadata": {},
   "outputs": [],
   "source": [
    "dt = np.array(np.ravel(np.concatenate((dp1, dp2, dp3, dp4)).reshape(-1)))"
   ]
  },
  {
   "cell_type": "code",
   "execution_count": 118,
   "id": "dcbfe60a-c2e0-4856-8047-209c8753c4ee",
   "metadata": {},
   "outputs": [
    {
     "data": {
      "text/plain": [
       "614.8601467000443"
      ]
     },
     "execution_count": 118,
     "metadata": {},
     "output_type": "execute_result"
    }
   ],
   "source": [
    "dt.max()"
   ]
  },
  {
   "cell_type": "code",
   "execution_count": 119,
   "id": "d6cdbed3-9fc3-4f7f-b2a5-f24ac0d09e7e",
   "metadata": {},
   "outputs": [
    {
     "data": {
      "text/plain": [
       "0.0"
      ]
     },
     "execution_count": 119,
     "metadata": {},
     "output_type": "execute_result"
    }
   ],
   "source": [
    "dt.min()"
   ]
  },
  {
   "cell_type": "code",
   "execution_count": 120,
   "id": "7c939f2a-81c7-4bb4-97f7-9a8e8dfc9f83",
   "metadata": {},
   "outputs": [
    {
     "data": {
      "text/plain": [
       "42.20879157351953"
      ]
     },
     "execution_count": 120,
     "metadata": {},
     "output_type": "execute_result"
    }
   ],
   "source": [
    "dt.mean()"
   ]
  },
  {
   "cell_type": "code",
   "execution_count": 121,
   "id": "4fa7aa55-0ffc-4c87-bf1b-974cb7819a1b",
   "metadata": {},
   "outputs": [
    {
     "data": {
      "text/plain": [
       "7.035533905932738"
      ]
     },
     "execution_count": 121,
     "metadata": {},
     "output_type": "execute_result"
    }
   ],
   "source": [
    "np.median(dt)"
   ]
  },
  {
   "cell_type": "code",
   "execution_count": 122,
   "id": "b3e1e45e-1e9e-4051-ac33-bf4dca26bf88",
   "metadata": {},
   "outputs": [
    {
     "data": {
      "text/plain": [
       "110.55695620736348"
      ]
     },
     "execution_count": 122,
     "metadata": {},
     "output_type": "execute_result"
    }
   ],
   "source": [
    "dt.std()"
   ]
  },
  {
   "cell_type": "code",
   "execution_count": 123,
   "id": "e3b9204d-0737-41f7-9c60-2f036d51a464",
   "metadata": {},
   "outputs": [
    {
     "data": {
      "text/plain": [
       "124"
      ]
     },
     "execution_count": 123,
     "metadata": {},
     "output_type": "execute_result"
    }
   ],
   "source": [
    "np.argmax(dt)"
   ]
  },
  {
   "cell_type": "code",
   "execution_count": null,
   "id": "57f80bd9-03ce-4e1e-8f35-57e0a1f4b462",
   "metadata": {},
   "outputs": [],
   "source": []
  },
  {
   "cell_type": "code",
   "execution_count": null,
   "id": "68076e68-e199-4880-be5e-c9abe653bc19",
   "metadata": {},
   "outputs": [],
   "source": []
  }
 ],
 "metadata": {
  "kernelspec": {
   "display_name": "Kedro (sibigrapi2023)",
   "language": "python",
   "name": "kedro_sibigrapi2023"
  },
  "language_info": {
   "codemirror_mode": {
    "name": "ipython",
    "version": 3
   },
   "file_extension": ".py",
   "mimetype": "text/x-python",
   "name": "python",
   "nbconvert_exporter": "python",
   "pygments_lexer": "ipython3",
   "version": "3.10.8"
  }
 },
 "nbformat": 4,
 "nbformat_minor": 5
}
